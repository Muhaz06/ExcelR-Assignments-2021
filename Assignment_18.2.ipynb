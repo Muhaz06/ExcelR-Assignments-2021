{
 "cells": [
  {
   "cell_type": "markdown",
   "id": "fb95491a",
   "metadata": {},
   "source": [
    "# Forecasting - 02"
   ]
  },
  {
   "cell_type": "code",
   "execution_count": 41,
   "id": "033cfc07",
   "metadata": {
    "ExecuteTime": {
     "end_time": "2022-01-12T12:24:45.454912Z",
     "start_time": "2022-01-12T12:24:45.443518Z"
    }
   },
   "outputs": [],
   "source": [
    "# Importing libraries\n",
    "import pandas as pd\n",
    "import numpy as np\n",
    "import matplotlib.pyplot as plt\n",
    "import seaborn as sns\n",
    "import warnings\n",
    "warnings.filterwarnings('ignore')"
   ]
  },
  {
   "cell_type": "code",
   "execution_count": 88,
   "id": "79863106",
   "metadata": {
    "ExecuteTime": {
     "end_time": "2022-01-12T12:32:39.245970Z",
     "start_time": "2022-01-12T12:32:39.177932Z"
    }
   },
   "outputs": [
    {
     "data": {
      "text/html": [
       "<div>\n",
       "<style scoped>\n",
       "    .dataframe tbody tr th:only-of-type {\n",
       "        vertical-align: middle;\n",
       "    }\n",
       "\n",
       "    .dataframe tbody tr th {\n",
       "        vertical-align: top;\n",
       "    }\n",
       "\n",
       "    .dataframe thead th {\n",
       "        text-align: right;\n",
       "    }\n",
       "</style>\n",
       "<table border=\"1\" class=\"dataframe\">\n",
       "  <thead>\n",
       "    <tr style=\"text-align: right;\">\n",
       "      <th></th>\n",
       "      <th>Month</th>\n",
       "      <th>Passengers</th>\n",
       "    </tr>\n",
       "  </thead>\n",
       "  <tbody>\n",
       "    <tr>\n",
       "      <th>0</th>\n",
       "      <td>1995-01-01</td>\n",
       "      <td>112</td>\n",
       "    </tr>\n",
       "    <tr>\n",
       "      <th>1</th>\n",
       "      <td>1995-02-01</td>\n",
       "      <td>118</td>\n",
       "    </tr>\n",
       "    <tr>\n",
       "      <th>2</th>\n",
       "      <td>1995-03-01</td>\n",
       "      <td>132</td>\n",
       "    </tr>\n",
       "    <tr>\n",
       "      <th>3</th>\n",
       "      <td>1995-04-01</td>\n",
       "      <td>129</td>\n",
       "    </tr>\n",
       "    <tr>\n",
       "      <th>4</th>\n",
       "      <td>1995-05-01</td>\n",
       "      <td>121</td>\n",
       "    </tr>\n",
       "    <tr>\n",
       "      <th>...</th>\n",
       "      <td>...</td>\n",
       "      <td>...</td>\n",
       "    </tr>\n",
       "    <tr>\n",
       "      <th>91</th>\n",
       "      <td>2002-08-01</td>\n",
       "      <td>405</td>\n",
       "    </tr>\n",
       "    <tr>\n",
       "      <th>92</th>\n",
       "      <td>2002-09-01</td>\n",
       "      <td>355</td>\n",
       "    </tr>\n",
       "    <tr>\n",
       "      <th>93</th>\n",
       "      <td>2002-10-01</td>\n",
       "      <td>306</td>\n",
       "    </tr>\n",
       "    <tr>\n",
       "      <th>94</th>\n",
       "      <td>2002-11-01</td>\n",
       "      <td>271</td>\n",
       "    </tr>\n",
       "    <tr>\n",
       "      <th>95</th>\n",
       "      <td>2002-12-01</td>\n",
       "      <td>306</td>\n",
       "    </tr>\n",
       "  </tbody>\n",
       "</table>\n",
       "<p>96 rows × 2 columns</p>\n",
       "</div>"
      ],
      "text/plain": [
       "        Month  Passengers\n",
       "0  1995-01-01         112\n",
       "1  1995-02-01         118\n",
       "2  1995-03-01         132\n",
       "3  1995-04-01         129\n",
       "4  1995-05-01         121\n",
       "..        ...         ...\n",
       "91 2002-08-01         405\n",
       "92 2002-09-01         355\n",
       "93 2002-10-01         306\n",
       "94 2002-11-01         271\n",
       "95 2002-12-01         306\n",
       "\n",
       "[96 rows x 2 columns]"
      ]
     },
     "execution_count": 88,
     "metadata": {},
     "output_type": "execute_result"
    }
   ],
   "source": [
    "data = pd.read_excel('Airlines+Data.xlsx')\n",
    "data"
   ]
  },
  {
   "cell_type": "code",
   "execution_count": 43,
   "id": "9af89d21",
   "metadata": {
    "ExecuteTime": {
     "end_time": "2022-01-12T12:24:46.296273Z",
     "start_time": "2022-01-12T12:24:46.273300Z"
    }
   },
   "outputs": [
    {
     "data": {
      "text/plain": [
       "(96, 2)"
      ]
     },
     "execution_count": 43,
     "metadata": {},
     "output_type": "execute_result"
    }
   ],
   "source": [
    "data.shape"
   ]
  },
  {
   "cell_type": "code",
   "execution_count": 44,
   "id": "b7de6de0",
   "metadata": {
    "ExecuteTime": {
     "end_time": "2022-01-12T12:24:46.941554Z",
     "start_time": "2022-01-12T12:24:46.923424Z"
    }
   },
   "outputs": [
    {
     "name": "stdout",
     "output_type": "stream",
     "text": [
      "<class 'pandas.core.frame.DataFrame'>\n",
      "RangeIndex: 96 entries, 0 to 95\n",
      "Data columns (total 2 columns):\n",
      " #   Column      Non-Null Count  Dtype         \n",
      "---  ------      --------------  -----         \n",
      " 0   Month       96 non-null     datetime64[ns]\n",
      " 1   Passengers  96 non-null     int64         \n",
      "dtypes: datetime64[ns](1), int64(1)\n",
      "memory usage: 1.6 KB\n"
     ]
    }
   ],
   "source": [
    "data.info()"
   ]
  },
  {
   "cell_type": "code",
   "execution_count": 89,
   "id": "c9f805db",
   "metadata": {
    "ExecuteTime": {
     "end_time": "2022-01-12T12:32:43.832322Z",
     "start_time": "2022-01-12T12:32:43.788011Z"
    }
   },
   "outputs": [
    {
     "data": {
      "text/html": [
       "<div>\n",
       "<style scoped>\n",
       "    .dataframe tbody tr th:only-of-type {\n",
       "        vertical-align: middle;\n",
       "    }\n",
       "\n",
       "    .dataframe tbody tr th {\n",
       "        vertical-align: top;\n",
       "    }\n",
       "\n",
       "    .dataframe thead th {\n",
       "        text-align: right;\n",
       "    }\n",
       "</style>\n",
       "<table border=\"1\" class=\"dataframe\">\n",
       "  <thead>\n",
       "    <tr style=\"text-align: right;\">\n",
       "      <th></th>\n",
       "      <th>Month</th>\n",
       "      <th>Passengers</th>\n",
       "      <th>1995-01-01 00:00:00</th>\n",
       "      <th>1995-02-01 00:00:00</th>\n",
       "      <th>1995-03-01 00:00:00</th>\n",
       "      <th>1995-04-01 00:00:00</th>\n",
       "      <th>1995-05-01 00:00:00</th>\n",
       "      <th>1995-06-01 00:00:00</th>\n",
       "      <th>1995-07-01 00:00:00</th>\n",
       "      <th>1995-08-01 00:00:00</th>\n",
       "      <th>...</th>\n",
       "      <th>2002-03-01 00:00:00</th>\n",
       "      <th>2002-04-01 00:00:00</th>\n",
       "      <th>2002-05-01 00:00:00</th>\n",
       "      <th>2002-06-01 00:00:00</th>\n",
       "      <th>2002-07-01 00:00:00</th>\n",
       "      <th>2002-08-01 00:00:00</th>\n",
       "      <th>2002-09-01 00:00:00</th>\n",
       "      <th>2002-10-01 00:00:00</th>\n",
       "      <th>2002-11-01 00:00:00</th>\n",
       "      <th>2002-12-01 00:00:00</th>\n",
       "    </tr>\n",
       "  </thead>\n",
       "  <tbody>\n",
       "    <tr>\n",
       "      <th>0</th>\n",
       "      <td>1995-01-01</td>\n",
       "      <td>112</td>\n",
       "      <td>1</td>\n",
       "      <td>0</td>\n",
       "      <td>0</td>\n",
       "      <td>0</td>\n",
       "      <td>0</td>\n",
       "      <td>0</td>\n",
       "      <td>0</td>\n",
       "      <td>0</td>\n",
       "      <td>...</td>\n",
       "      <td>0</td>\n",
       "      <td>0</td>\n",
       "      <td>0</td>\n",
       "      <td>0</td>\n",
       "      <td>0</td>\n",
       "      <td>0</td>\n",
       "      <td>0</td>\n",
       "      <td>0</td>\n",
       "      <td>0</td>\n",
       "      <td>0</td>\n",
       "    </tr>\n",
       "    <tr>\n",
       "      <th>1</th>\n",
       "      <td>1995-02-01</td>\n",
       "      <td>118</td>\n",
       "      <td>0</td>\n",
       "      <td>1</td>\n",
       "      <td>0</td>\n",
       "      <td>0</td>\n",
       "      <td>0</td>\n",
       "      <td>0</td>\n",
       "      <td>0</td>\n",
       "      <td>0</td>\n",
       "      <td>...</td>\n",
       "      <td>0</td>\n",
       "      <td>0</td>\n",
       "      <td>0</td>\n",
       "      <td>0</td>\n",
       "      <td>0</td>\n",
       "      <td>0</td>\n",
       "      <td>0</td>\n",
       "      <td>0</td>\n",
       "      <td>0</td>\n",
       "      <td>0</td>\n",
       "    </tr>\n",
       "    <tr>\n",
       "      <th>2</th>\n",
       "      <td>1995-03-01</td>\n",
       "      <td>132</td>\n",
       "      <td>0</td>\n",
       "      <td>0</td>\n",
       "      <td>1</td>\n",
       "      <td>0</td>\n",
       "      <td>0</td>\n",
       "      <td>0</td>\n",
       "      <td>0</td>\n",
       "      <td>0</td>\n",
       "      <td>...</td>\n",
       "      <td>0</td>\n",
       "      <td>0</td>\n",
       "      <td>0</td>\n",
       "      <td>0</td>\n",
       "      <td>0</td>\n",
       "      <td>0</td>\n",
       "      <td>0</td>\n",
       "      <td>0</td>\n",
       "      <td>0</td>\n",
       "      <td>0</td>\n",
       "    </tr>\n",
       "    <tr>\n",
       "      <th>3</th>\n",
       "      <td>1995-04-01</td>\n",
       "      <td>129</td>\n",
       "      <td>0</td>\n",
       "      <td>0</td>\n",
       "      <td>0</td>\n",
       "      <td>1</td>\n",
       "      <td>0</td>\n",
       "      <td>0</td>\n",
       "      <td>0</td>\n",
       "      <td>0</td>\n",
       "      <td>...</td>\n",
       "      <td>0</td>\n",
       "      <td>0</td>\n",
       "      <td>0</td>\n",
       "      <td>0</td>\n",
       "      <td>0</td>\n",
       "      <td>0</td>\n",
       "      <td>0</td>\n",
       "      <td>0</td>\n",
       "      <td>0</td>\n",
       "      <td>0</td>\n",
       "    </tr>\n",
       "    <tr>\n",
       "      <th>4</th>\n",
       "      <td>1995-05-01</td>\n",
       "      <td>121</td>\n",
       "      <td>0</td>\n",
       "      <td>0</td>\n",
       "      <td>0</td>\n",
       "      <td>0</td>\n",
       "      <td>1</td>\n",
       "      <td>0</td>\n",
       "      <td>0</td>\n",
       "      <td>0</td>\n",
       "      <td>...</td>\n",
       "      <td>0</td>\n",
       "      <td>0</td>\n",
       "      <td>0</td>\n",
       "      <td>0</td>\n",
       "      <td>0</td>\n",
       "      <td>0</td>\n",
       "      <td>0</td>\n",
       "      <td>0</td>\n",
       "      <td>0</td>\n",
       "      <td>0</td>\n",
       "    </tr>\n",
       "  </tbody>\n",
       "</table>\n",
       "<p>5 rows × 98 columns</p>\n",
       "</div>"
      ],
      "text/plain": [
       "       Month  Passengers  1995-01-01 00:00:00  1995-02-01 00:00:00  \\\n",
       "0 1995-01-01         112                    1                    0   \n",
       "1 1995-02-01         118                    0                    1   \n",
       "2 1995-03-01         132                    0                    0   \n",
       "3 1995-04-01         129                    0                    0   \n",
       "4 1995-05-01         121                    0                    0   \n",
       "\n",
       "   1995-03-01 00:00:00  1995-04-01 00:00:00  1995-05-01 00:00:00  \\\n",
       "0                    0                    0                    0   \n",
       "1                    0                    0                    0   \n",
       "2                    1                    0                    0   \n",
       "3                    0                    1                    0   \n",
       "4                    0                    0                    1   \n",
       "\n",
       "   1995-06-01 00:00:00  1995-07-01 00:00:00  1995-08-01 00:00:00  ...  \\\n",
       "0                    0                    0                    0  ...   \n",
       "1                    0                    0                    0  ...   \n",
       "2                    0                    0                    0  ...   \n",
       "3                    0                    0                    0  ...   \n",
       "4                    0                    0                    0  ...   \n",
       "\n",
       "   2002-03-01 00:00:00  2002-04-01 00:00:00  2002-05-01 00:00:00  \\\n",
       "0                    0                    0                    0   \n",
       "1                    0                    0                    0   \n",
       "2                    0                    0                    0   \n",
       "3                    0                    0                    0   \n",
       "4                    0                    0                    0   \n",
       "\n",
       "   2002-06-01 00:00:00  2002-07-01 00:00:00  2002-08-01 00:00:00  \\\n",
       "0                    0                    0                    0   \n",
       "1                    0                    0                    0   \n",
       "2                    0                    0                    0   \n",
       "3                    0                    0                    0   \n",
       "4                    0                    0                    0   \n",
       "\n",
       "   2002-09-01 00:00:00  2002-10-01 00:00:00  2002-11-01 00:00:00  \\\n",
       "0                    0                    0                    0   \n",
       "1                    0                    0                    0   \n",
       "2                    0                    0                    0   \n",
       "3                    0                    0                    0   \n",
       "4                    0                    0                    0   \n",
       "\n",
       "   2002-12-01 00:00:00  \n",
       "0                    0  \n",
       "1                    0  \n",
       "2                    0  \n",
       "3                    0  \n",
       "4                    0  \n",
       "\n",
       "[5 rows x 98 columns]"
      ]
     },
     "execution_count": 89,
     "metadata": {},
     "output_type": "execute_result"
    }
   ],
   "source": [
    "# Getting dummy variables \n",
    "Months_Dummies = pd.DataFrame(pd.get_dummies(data['Month']))\n",
    "data_dm = pd.concat([data,Months_Dummies],axis = 1)\n",
    "data_dm.head()"
   ]
  },
  {
   "cell_type": "code",
   "execution_count": 46,
   "id": "efbacf31",
   "metadata": {
    "ExecuteTime": {
     "end_time": "2022-01-12T12:24:48.216524Z",
     "start_time": "2022-01-12T12:24:47.965418Z"
    }
   },
   "outputs": [
    {
     "data": {
      "text/plain": [
       "[<matplotlib.lines.Line2D at 0x1d82ede33a0>]"
      ]
     },
     "execution_count": 46,
     "metadata": {},
     "output_type": "execute_result"
    },
    {
     "data": {
      "image/png": "[encoded data removed]",
      "text/plain": [
       "<Figure size 576x360 with 1 Axes>"
      ]
     },
     "metadata": {
      "needs_background": "light"
     },
     "output_type": "display_data"
    }
   ],
   "source": [
    "# Lineplot for passengers\n",
    "plt.figure(figsize=(8,5))\n",
    "plt.plot(data['Passengers'], color = 'blue', linewidth=3)"
   ]
  },
  {
   "cell_type": "code",
   "execution_count": 47,
   "id": "35a3df97",
   "metadata": {
    "ExecuteTime": {
     "end_time": "2022-01-12T12:24:49.142716Z",
     "start_time": "2022-01-12T12:24:48.681852Z"
    }
   },
   "outputs": [
    {
     "data": {
      "image/png": "[encoded data removed]",
      "text/plain": [
       "<Figure size 432x288 with 1 Axes>"
      ]
     },
     "metadata": {
      "needs_background": "light"
     },
     "output_type": "display_data"
    },
    {
     "data": {
      "image/png": "[encoded data removed]",
      "text/plain": [
       "<Figure size 432x288 with 1 Axes>"
      ]
     },
     "metadata": {
      "needs_background": "light"
     },
     "output_type": "display_data"
    }
   ],
   "source": [
    "import statsmodels.graphics.tsaplots as tsa_plots\n",
    "tsa_plots.plot_acf(data.Passengers,lags=12)\n",
    "tsa_plots.plot_pacf(data.Passengers,lags=12)\n",
    "plt.show()"
   ]
  },
  {
   "cell_type": "markdown",
   "id": "3f053f42",
   "metadata": {},
   "source": [
    "## Data Driven Forecasting Methods"
   ]
  },
  {
   "cell_type": "code",
   "execution_count": 48,
   "id": "7c792640",
   "metadata": {
    "ExecuteTime": {
     "end_time": "2022-01-12T12:24:50.823579Z",
     "start_time": "2022-01-12T12:24:50.813441Z"
    }
   },
   "outputs": [],
   "source": [
    "from statsmodels.tsa.holtwinters import SimpleExpSmoothing # SES\n",
    "from statsmodels.tsa.holtwinters import Holt # Holts Exponential Smoothing\n",
    "from statsmodels.tsa.holtwinters import ExponentialSmoothing "
   ]
  },
  {
   "cell_type": "code",
   "execution_count": 66,
   "id": "1459bfda",
   "metadata": {
    "ExecuteTime": {
     "end_time": "2022-01-12T12:26:45.503656Z",
     "start_time": "2022-01-12T12:26:45.497184Z"
    }
   },
   "outputs": [],
   "source": [
    "#Splitting Data into Train and Test (77/33)\n",
    "Train = data.head(84)\n",
    "Test = data.tail(12)"
   ]
  },
  {
   "cell_type": "markdown",
   "id": "3c9c7af2",
   "metadata": {},
   "source": [
    "## Moving Average Method"
   ]
  },
  {
   "cell_type": "code",
   "execution_count": 67,
   "id": "a6c595d2",
   "metadata": {
    "ExecuteTime": {
     "end_time": "2022-01-12T12:26:48.060055Z",
     "start_time": "2022-01-12T12:26:47.608904Z"
    }
   },
   "outputs": [
    {
     "data": {
      "text/plain": [
       "<matplotlib.legend.Legend at 0x1d82d172ac0>"
      ]
     },
     "execution_count": 67,
     "metadata": {},
     "output_type": "execute_result"
    },
    {
     "data": {
      "image/png": "[encoded data removed]",
      "text/plain": [
       "<Figure size 864x288 with 1 Axes>"
      ]
     },
     "metadata": {
      "needs_background": "light"
     },
     "output_type": "display_data"
    }
   ],
   "source": [
    "plt.figure(figsize=(12,4))\n",
    "data.Passengers.plot(label=\"org\")\n",
    "for i in range(2,8,2):\n",
    "    data[\"Passengers\"].rolling(i).mean().plot(label=str(i))\n",
    "plt.legend(loc='best')"
   ]
  },
  {
   "cell_type": "markdown",
   "id": "393123ee",
   "metadata": {},
   "source": [
    "## Time Series Decomposition plot"
   ]
  },
  {
   "cell_type": "code",
   "execution_count": 68,
   "id": "59de128e",
   "metadata": {
    "ExecuteTime": {
     "end_time": "2022-01-12T12:26:49.509184Z",
     "start_time": "2022-01-12T12:26:48.868823Z"
    }
   },
   "outputs": [
    {
     "data": {
      "image/png": "[encoded data removed]",
      "text/plain": [
       "<Figure size 432x288 with 4 Axes>"
      ]
     },
     "metadata": {
      "needs_background": "light"
     },
     "output_type": "display_data"
    }
   ],
   "source": [
    "from statsmodels.tsa.seasonal import seasonal_decompose\n",
    "\n",
    "decompose_ts_add = seasonal_decompose(data.Passengers,period=12)\n",
    "decompose_ts_add.plot()\n",
    "plt.show()"
   ]
  },
  {
   "cell_type": "markdown",
   "id": "5f601a0e",
   "metadata": {},
   "source": [
    "## Evaluation Metric RMSE"
   ]
  },
  {
   "cell_type": "code",
   "execution_count": 69,
   "id": "c820672e",
   "metadata": {
    "ExecuteTime": {
     "end_time": "2022-01-12T12:26:49.909714Z",
     "start_time": "2022-01-12T12:26:49.897026Z"
    }
   },
   "outputs": [],
   "source": [
    "def RMSE(org, pred):\n",
    "    rmse=np.sqrt(np.mean((np.array(org)-np.array(pred))**2))\n",
    "    return rmse"
   ]
  },
  {
   "cell_type": "markdown",
   "id": "0ccaad6a",
   "metadata": {},
   "source": [
    "## Simple Exponential Method"
   ]
  },
  {
   "cell_type": "code",
   "execution_count": 70,
   "id": "86268935",
   "metadata": {
    "ExecuteTime": {
     "end_time": "2022-01-12T12:26:50.640688Z",
     "start_time": "2022-01-12T12:26:50.617104Z"
    }
   },
   "outputs": [
    {
     "data": {
      "text/plain": [
       "68.00674031349644"
      ]
     },
     "execution_count": 70,
     "metadata": {},
     "output_type": "execute_result"
    }
   ],
   "source": [
    "ses_model = SimpleExpSmoothing(Train[\"Passengers\"]).fit()\n",
    "pred_ses = ses_model.predict(start = Test.index[0],end = Test.index[-1])\n",
    "rmse_ses = RMSE(Test.Passengers, pred_ses)\n",
    "rmse_ses"
   ]
  },
  {
   "cell_type": "markdown",
   "id": "ef6d8bd2",
   "metadata": {},
   "source": [
    "## Holt Method"
   ]
  },
  {
   "cell_type": "code",
   "execution_count": 71,
   "id": "022a0a53",
   "metadata": {
    "ExecuteTime": {
     "end_time": "2022-01-12T12:26:52.174174Z",
     "start_time": "2022-01-12T12:26:52.104069Z"
    }
   },
   "outputs": [
    {
     "data": {
      "text/plain": [
       "58.57384693071804"
      ]
     },
     "execution_count": 71,
     "metadata": {},
     "output_type": "execute_result"
    }
   ],
   "source": [
    "hw_model = Holt(Train[\"Passengers\"]).fit()\n",
    "pred_hw = hw_model.predict(start = Test.index[0],end = Test.index[-1])\n",
    "rmse_hw = RMSE(Test.Passengers, pred_hw)\n",
    "rmse_hw"
   ]
  },
  {
   "cell_type": "markdown",
   "id": "c6558574",
   "metadata": {},
   "source": [
    "## Holts winter exponential smoothing with additive seasonality and additive trend"
   ]
  },
  {
   "cell_type": "code",
   "execution_count": 94,
   "id": "9e16066c",
   "metadata": {
    "ExecuteTime": {
     "end_time": "2022-01-12T12:39:47.912584Z",
     "start_time": "2022-01-12T12:39:47.632188Z"
    }
   },
   "outputs": [
    {
     "data": {
      "text/plain": [
       "62.71406428068746"
      ]
     },
     "execution_count": 94,
     "metadata": {},
     "output_type": "execute_result"
    }
   ],
   "source": [
    "hwe_model_add_add = ExponentialSmoothing(Train[\"Passengers\"],seasonal=\"add\",trend=\"add\",seasonal_periods=4).fit()\n",
    "pred_hwe_add_add = hwe_model_add_add.predict(start = Test.index[0],end = Test.index[-1])\n",
    "rmse_hwe_add_add = RMSE(Test.Passengers, pred_hwe_add_add)\n",
    "rmse_hwe_add_add"
   ]
  },
  {
   "cell_type": "markdown",
   "id": "3fa970ad",
   "metadata": {},
   "source": [
    "## Holts winter exponential smoothing with additive seasonality and additive trend"
   ]
  },
  {
   "cell_type": "code",
   "execution_count": 97,
   "id": "2496b9e8",
   "metadata": {
    "ExecuteTime": {
     "end_time": "2022-01-12T12:41:29.732617Z",
     "start_time": "2022-01-12T12:41:29.445621Z"
    }
   },
   "outputs": [
    {
     "data": {
      "text/plain": [
       "64.77748540879074"
      ]
     },
     "execution_count": 97,
     "metadata": {},
     "output_type": "execute_result"
    }
   ],
   "source": [
    "hwe_model_mul_add = ExponentialSmoothing(Train[\"Passengers\"],seasonal=\"mul\",trend=\"add\",seasonal_periods=4).fit() \n",
    "pred_hwe_mul_add = hwe_model_mul_add.predict(start = Test.index[0],end = Test.index[-1])\n",
    "rmse_hwe_mul_add = RMSE(Test.Passengers, pred_hwe_mul_add)\n",
    "rmse_hwe_mul_add"
   ]
  },
  {
   "cell_type": "markdown",
   "id": "5061c7a8",
   "metadata": {},
   "source": [
    "## Model based Forecasting Methods"
   ]
  },
  {
   "cell_type": "code",
   "execution_count": 109,
   "id": "6905d6b3",
   "metadata": {
    "ExecuteTime": {
     "end_time": "2022-01-12T12:46:23.272730Z",
     "start_time": "2022-01-12T12:46:23.246724Z"
    }
   },
   "outputs": [
    {
     "data": {
      "text/html": [
       "<div>\n",
       "<style scoped>\n",
       "    .dataframe tbody tr th:only-of-type {\n",
       "        vertical-align: middle;\n",
       "    }\n",
       "\n",
       "    .dataframe tbody tr th {\n",
       "        vertical-align: top;\n",
       "    }\n",
       "\n",
       "    .dataframe thead th {\n",
       "        text-align: right;\n",
       "    }\n",
       "</style>\n",
       "<table border=\"1\" class=\"dataframe\">\n",
       "  <thead>\n",
       "    <tr style=\"text-align: right;\">\n",
       "      <th></th>\n",
       "      <th>Month</th>\n",
       "      <th>Passengers</th>\n",
       "      <th>t</th>\n",
       "      <th>t_squared</th>\n",
       "      <th>log_psngr</th>\n",
       "    </tr>\n",
       "  </thead>\n",
       "  <tbody>\n",
       "    <tr>\n",
       "      <th>0</th>\n",
       "      <td>1995-01-01</td>\n",
       "      <td>112</td>\n",
       "      <td>1</td>\n",
       "      <td>1</td>\n",
       "      <td>4.718499</td>\n",
       "    </tr>\n",
       "    <tr>\n",
       "      <th>1</th>\n",
       "      <td>1995-02-01</td>\n",
       "      <td>118</td>\n",
       "      <td>2</td>\n",
       "      <td>4</td>\n",
       "      <td>4.770685</td>\n",
       "    </tr>\n",
       "    <tr>\n",
       "      <th>2</th>\n",
       "      <td>1995-03-01</td>\n",
       "      <td>132</td>\n",
       "      <td>3</td>\n",
       "      <td>9</td>\n",
       "      <td>4.882802</td>\n",
       "    </tr>\n",
       "    <tr>\n",
       "      <th>3</th>\n",
       "      <td>1995-04-01</td>\n",
       "      <td>129</td>\n",
       "      <td>4</td>\n",
       "      <td>16</td>\n",
       "      <td>4.859812</td>\n",
       "    </tr>\n",
       "    <tr>\n",
       "      <th>4</th>\n",
       "      <td>1995-05-01</td>\n",
       "      <td>121</td>\n",
       "      <td>5</td>\n",
       "      <td>25</td>\n",
       "      <td>4.795791</td>\n",
       "    </tr>\n",
       "  </tbody>\n",
       "</table>\n",
       "</div>"
      ],
      "text/plain": [
       "       Month  Passengers  t  t_squared  log_psngr\n",
       "0 1995-01-01         112  1          1   4.718499\n",
       "1 1995-02-01         118  2          4   4.770685\n",
       "2 1995-03-01         132  3          9   4.882802\n",
       "3 1995-04-01         129  4         16   4.859812\n",
       "4 1995-05-01         121  5         25   4.795791"
      ]
     },
     "execution_count": 109,
     "metadata": {},
     "output_type": "execute_result"
    }
   ],
   "source": [
    "# Data preprocessing for models\n",
    "data[\"t\"] = np.arange(1,97)\n",
    "data[\"t_squared\"] = data[\"t\"]*data[\"t\"]\n",
    "\n",
    "data[\"log_psngr\"] = np.log(data[\"Passengers\"])\n",
    "\n",
    "data.head()"
   ]
  },
  {
   "cell_type": "code",
   "execution_count": 76,
   "id": "4c51e71d",
   "metadata": {
    "ExecuteTime": {
     "end_time": "2022-01-12T12:27:16.931633Z",
     "start_time": "2022-01-12T12:27:16.924783Z"
    }
   },
   "outputs": [],
   "source": [
    "# Splitting data into Train and Test (77/33)\n",
    "Train = data.head(84)\n",
    "Test = data.tail(12)"
   ]
  },
  {
   "cell_type": "code",
   "execution_count": 77,
   "id": "5a39f262",
   "metadata": {
    "ExecuteTime": {
     "end_time": "2022-01-12T12:27:17.948424Z",
     "start_time": "2022-01-12T12:27:17.918457Z"
    }
   },
   "outputs": [
    {
     "data": {
      "text/html": [
       "<div>\n",
       "<style scoped>\n",
       "    .dataframe tbody tr th:only-of-type {\n",
       "        vertical-align: middle;\n",
       "    }\n",
       "\n",
       "    .dataframe tbody tr th {\n",
       "        vertical-align: top;\n",
       "    }\n",
       "\n",
       "    .dataframe thead th {\n",
       "        text-align: right;\n",
       "    }\n",
       "</style>\n",
       "<table border=\"1\" class=\"dataframe\">\n",
       "  <thead>\n",
       "    <tr style=\"text-align: right;\">\n",
       "      <th></th>\n",
       "      <th>Month</th>\n",
       "      <th>Passengers</th>\n",
       "      <th>t</th>\n",
       "      <th>t_squared</th>\n",
       "      <th>log_psngr</th>\n",
       "    </tr>\n",
       "  </thead>\n",
       "  <tbody>\n",
       "    <tr>\n",
       "      <th>0</th>\n",
       "      <td>1995-01-01</td>\n",
       "      <td>112</td>\n",
       "      <td>1</td>\n",
       "      <td>1</td>\n",
       "      <td>4.718499</td>\n",
       "    </tr>\n",
       "    <tr>\n",
       "      <th>1</th>\n",
       "      <td>1995-02-01</td>\n",
       "      <td>118</td>\n",
       "      <td>2</td>\n",
       "      <td>4</td>\n",
       "      <td>4.770685</td>\n",
       "    </tr>\n",
       "    <tr>\n",
       "      <th>2</th>\n",
       "      <td>1995-03-01</td>\n",
       "      <td>132</td>\n",
       "      <td>3</td>\n",
       "      <td>9</td>\n",
       "      <td>4.882802</td>\n",
       "    </tr>\n",
       "    <tr>\n",
       "      <th>3</th>\n",
       "      <td>1995-04-01</td>\n",
       "      <td>129</td>\n",
       "      <td>4</td>\n",
       "      <td>16</td>\n",
       "      <td>4.859812</td>\n",
       "    </tr>\n",
       "    <tr>\n",
       "      <th>4</th>\n",
       "      <td>1995-05-01</td>\n",
       "      <td>121</td>\n",
       "      <td>5</td>\n",
       "      <td>25</td>\n",
       "      <td>4.795791</td>\n",
       "    </tr>\n",
       "  </tbody>\n",
       "</table>\n",
       "</div>"
      ],
      "text/plain": [
       "       Month  Passengers  t  t_squared  log_psngr\n",
       "0 1995-01-01         112  1          1   4.718499\n",
       "1 1995-02-01         118  2          4   4.770685\n",
       "2 1995-03-01         132  3          9   4.882802\n",
       "3 1995-04-01         129  4         16   4.859812\n",
       "4 1995-05-01         121  5         25   4.795791"
      ]
     },
     "execution_count": 77,
     "metadata": {},
     "output_type": "execute_result"
    }
   ],
   "source": [
    "Train.head()"
   ]
  },
  {
   "cell_type": "code",
   "execution_count": 78,
   "id": "982ed069",
   "metadata": {
    "ExecuteTime": {
     "end_time": "2022-01-12T12:27:18.428110Z",
     "start_time": "2022-01-12T12:27:18.411465Z"
    }
   },
   "outputs": [
    {
     "data": {
      "text/html": [
       "<div>\n",
       "<style scoped>\n",
       "    .dataframe tbody tr th:only-of-type {\n",
       "        vertical-align: middle;\n",
       "    }\n",
       "\n",
       "    .dataframe tbody tr th {\n",
       "        vertical-align: top;\n",
       "    }\n",
       "\n",
       "    .dataframe thead th {\n",
       "        text-align: right;\n",
       "    }\n",
       "</style>\n",
       "<table border=\"1\" class=\"dataframe\">\n",
       "  <thead>\n",
       "    <tr style=\"text-align: right;\">\n",
       "      <th></th>\n",
       "      <th>Month</th>\n",
       "      <th>Passengers</th>\n",
       "      <th>t</th>\n",
       "      <th>t_squared</th>\n",
       "      <th>log_psngr</th>\n",
       "    </tr>\n",
       "  </thead>\n",
       "  <tbody>\n",
       "    <tr>\n",
       "      <th>84</th>\n",
       "      <td>2002-01-01</td>\n",
       "      <td>284</td>\n",
       "      <td>85</td>\n",
       "      <td>7225</td>\n",
       "      <td>5.648974</td>\n",
       "    </tr>\n",
       "    <tr>\n",
       "      <th>85</th>\n",
       "      <td>2002-02-01</td>\n",
       "      <td>277</td>\n",
       "      <td>86</td>\n",
       "      <td>7396</td>\n",
       "      <td>5.624018</td>\n",
       "    </tr>\n",
       "    <tr>\n",
       "      <th>86</th>\n",
       "      <td>2002-03-01</td>\n",
       "      <td>317</td>\n",
       "      <td>87</td>\n",
       "      <td>7569</td>\n",
       "      <td>5.758902</td>\n",
       "    </tr>\n",
       "    <tr>\n",
       "      <th>87</th>\n",
       "      <td>2002-04-01</td>\n",
       "      <td>313</td>\n",
       "      <td>88</td>\n",
       "      <td>7744</td>\n",
       "      <td>5.746203</td>\n",
       "    </tr>\n",
       "    <tr>\n",
       "      <th>88</th>\n",
       "      <td>2002-05-01</td>\n",
       "      <td>318</td>\n",
       "      <td>89</td>\n",
       "      <td>7921</td>\n",
       "      <td>5.762051</td>\n",
       "    </tr>\n",
       "  </tbody>\n",
       "</table>\n",
       "</div>"
      ],
      "text/plain": [
       "        Month  Passengers   t  t_squared  log_psngr\n",
       "84 2002-01-01         284  85       7225   5.648974\n",
       "85 2002-02-01         277  86       7396   5.624018\n",
       "86 2002-03-01         317  87       7569   5.758902\n",
       "87 2002-04-01         313  88       7744   5.746203\n",
       "88 2002-05-01         318  89       7921   5.762051"
      ]
     },
     "execution_count": 78,
     "metadata": {},
     "output_type": "execute_result"
    }
   ],
   "source": [
    "Test.head()"
   ]
  },
  {
   "cell_type": "markdown",
   "id": "29fe4ab9",
   "metadata": {},
   "source": [
    "## Linear Model"
   ]
  },
  {
   "cell_type": "code",
   "execution_count": 99,
   "id": "e53ec2de",
   "metadata": {
    "ExecuteTime": {
     "end_time": "2022-01-12T12:42:15.013231Z",
     "start_time": "2022-01-12T12:42:14.977603Z"
    }
   },
   "outputs": [
    {
     "data": {
      "text/plain": [
       "53.199236534802715"
      ]
     },
     "execution_count": 99,
     "metadata": {},
     "output_type": "execute_result"
    }
   ],
   "source": [
    "import statsmodels.formula.api as smf \n",
    "\n",
    "linear_model = smf.ols('Passengers~t',data=Train).fit()\n",
    "pred_linear =  pd.Series(linear_model.predict(pd.DataFrame(Test['t'])))\n",
    "rmse_linear = RMSE(Test['Passengers'], pred_linear)\n",
    "rmse_linear"
   ]
  },
  {
   "cell_type": "markdown",
   "id": "d4fa7fcf",
   "metadata": {},
   "source": [
    "## Exponential Model"
   ]
  },
  {
   "cell_type": "code",
   "execution_count": 100,
   "id": "d30c24c6",
   "metadata": {
    "ExecuteTime": {
     "end_time": "2022-01-12T12:42:15.889992Z",
     "start_time": "2022-01-12T12:42:15.859233Z"
    }
   },
   "outputs": [
    {
     "data": {
      "text/plain": [
       "46.0573611031562"
      ]
     },
     "execution_count": 100,
     "metadata": {},
     "output_type": "execute_result"
    }
   ],
   "source": [
    "Exp = smf.ols('log_psngr~t',data=Train).fit()\n",
    "pred_Exp = pd.Series(Exp.predict(pd.DataFrame(Test['t'])))\n",
    "rmse_Exp = RMSE(Test['Passengers'], np.exp(pred_Exp))\n",
    "rmse_Exp"
   ]
  },
  {
   "cell_type": "markdown",
   "id": "d55263c1",
   "metadata": {},
   "source": [
    "## Quadratic Model"
   ]
  },
  {
   "cell_type": "code",
   "execution_count": 101,
   "id": "5adf7a05",
   "metadata": {
    "ExecuteTime": {
     "end_time": "2022-01-12T12:42:16.497114Z",
     "start_time": "2022-01-12T12:42:16.460293Z"
    }
   },
   "outputs": [
    {
     "data": {
      "text/plain": [
       "48.051888979330975"
      ]
     },
     "execution_count": 101,
     "metadata": {},
     "output_type": "execute_result"
    }
   ],
   "source": [
    "Quad = smf.ols('Passengers~t+t_squared',data=Train).fit()\n",
    "pred_Quad = pd.Series(Quad.predict(Test[[\"t\",\"t_squared\"]]))\n",
    "rmse_quad_model = RMSE(Test['Passengers'], pred_Quad)\n",
    "rmse_quad_model"
   ]
  },
  {
   "cell_type": "code",
   "execution_count": 103,
   "id": "edfd696e",
   "metadata": {
    "ExecuteTime": {
     "end_time": "2022-01-12T12:43:17.321790Z",
     "start_time": "2022-01-12T12:43:17.313474Z"
    }
   },
   "outputs": [],
   "source": [
    "list = [['Simple Exponential Method',rmse_ses], ['Holt method',rmse_hw],\n",
    "          ['HW exp smoothing add',rmse_hwe_add_add],['HW exp smoothing mult',rmse_hwe_mul_add],\n",
    "          ['Linear Mode',rmse_linear],['Exp model',rmse_Exp],['Quad model',rmse_quad_model]]\n",
    "         "
   ]
  },
  {
   "cell_type": "code",
   "execution_count": 104,
   "id": "c774786f",
   "metadata": {
    "ExecuteTime": {
     "end_time": "2022-01-12T12:43:49.090046Z",
     "start_time": "2022-01-12T12:43:49.074507Z"
    }
   },
   "outputs": [
    {
     "data": {
      "text/html": [
       "<div>\n",
       "<style scoped>\n",
       "    .dataframe tbody tr th:only-of-type {\n",
       "        vertical-align: middle;\n",
       "    }\n",
       "\n",
       "    .dataframe tbody tr th {\n",
       "        vertical-align: top;\n",
       "    }\n",
       "\n",
       "    .dataframe thead th {\n",
       "        text-align: right;\n",
       "    }\n",
       "</style>\n",
       "<table border=\"1\" class=\"dataframe\">\n",
       "  <thead>\n",
       "    <tr style=\"text-align: right;\">\n",
       "      <th></th>\n",
       "      <th>Model</th>\n",
       "      <th>RMSE_Value</th>\n",
       "    </tr>\n",
       "  </thead>\n",
       "  <tbody>\n",
       "    <tr>\n",
       "      <th>0</th>\n",
       "      <td>Simple Exponential Method</td>\n",
       "      <td>68.006740</td>\n",
       "    </tr>\n",
       "    <tr>\n",
       "      <th>1</th>\n",
       "      <td>Holt method</td>\n",
       "      <td>58.573847</td>\n",
       "    </tr>\n",
       "    <tr>\n",
       "      <th>2</th>\n",
       "      <td>HW exp smoothing add</td>\n",
       "      <td>62.714064</td>\n",
       "    </tr>\n",
       "    <tr>\n",
       "      <th>3</th>\n",
       "      <td>HW exp smoothing mult</td>\n",
       "      <td>64.777485</td>\n",
       "    </tr>\n",
       "    <tr>\n",
       "      <th>4</th>\n",
       "      <td>Linear Mode</td>\n",
       "      <td>53.199237</td>\n",
       "    </tr>\n",
       "    <tr>\n",
       "      <th>5</th>\n",
       "      <td>Exp model</td>\n",
       "      <td>46.057361</td>\n",
       "    </tr>\n",
       "    <tr>\n",
       "      <th>6</th>\n",
       "      <td>Quad model</td>\n",
       "      <td>48.051889</td>\n",
       "    </tr>\n",
       "  </tbody>\n",
       "</table>\n",
       "</div>"
      ],
      "text/plain": [
       "                       Model  RMSE_Value\n",
       "0  Simple Exponential Method   68.006740\n",
       "1                Holt method   58.573847\n",
       "2       HW exp smoothing add   62.714064\n",
       "3      HW exp smoothing mult   64.777485\n",
       "4                Linear Mode   53.199237\n",
       "5                  Exp model   46.057361\n",
       "6                 Quad model   48.051889"
      ]
     },
     "execution_count": 104,
     "metadata": {},
     "output_type": "execute_result"
    }
   ],
   "source": [
    "df = pd.DataFrame(list, columns =['Model', 'RMSE_Value']) \n",
    "df"
   ]
  },
  {
   "cell_type": "markdown",
   "id": "b73ba18d",
   "metadata": {},
   "source": [
    "## Building final model with least RMSE value"
   ]
  },
  {
   "cell_type": "code",
   "execution_count": 110,
   "id": "4ab2f181",
   "metadata": {
    "ExecuteTime": {
     "end_time": "2022-01-12T12:46:28.807760Z",
     "start_time": "2022-01-12T12:46:28.787302Z"
    }
   },
   "outputs": [
    {
     "data": {
      "text/html": [
       "<div>\n",
       "<style scoped>\n",
       "    .dataframe tbody tr th:only-of-type {\n",
       "        vertical-align: middle;\n",
       "    }\n",
       "\n",
       "    .dataframe tbody tr th {\n",
       "        vertical-align: top;\n",
       "    }\n",
       "\n",
       "    .dataframe thead th {\n",
       "        text-align: right;\n",
       "    }\n",
       "</style>\n",
       "<table border=\"1\" class=\"dataframe\">\n",
       "  <thead>\n",
       "    <tr style=\"text-align: right;\">\n",
       "      <th></th>\n",
       "      <th>Month</th>\n",
       "      <th>Passengers</th>\n",
       "      <th>t</th>\n",
       "      <th>t_squared</th>\n",
       "      <th>log_psngr</th>\n",
       "    </tr>\n",
       "  </thead>\n",
       "  <tbody>\n",
       "    <tr>\n",
       "      <th>0</th>\n",
       "      <td>1995-01-01</td>\n",
       "      <td>112</td>\n",
       "      <td>1</td>\n",
       "      <td>1</td>\n",
       "      <td>4.718499</td>\n",
       "    </tr>\n",
       "    <tr>\n",
       "      <th>1</th>\n",
       "      <td>1995-02-01</td>\n",
       "      <td>118</td>\n",
       "      <td>2</td>\n",
       "      <td>4</td>\n",
       "      <td>4.770685</td>\n",
       "    </tr>\n",
       "    <tr>\n",
       "      <th>2</th>\n",
       "      <td>1995-03-01</td>\n",
       "      <td>132</td>\n",
       "      <td>3</td>\n",
       "      <td>9</td>\n",
       "      <td>4.882802</td>\n",
       "    </tr>\n",
       "    <tr>\n",
       "      <th>3</th>\n",
       "      <td>1995-04-01</td>\n",
       "      <td>129</td>\n",
       "      <td>4</td>\n",
       "      <td>16</td>\n",
       "      <td>4.859812</td>\n",
       "    </tr>\n",
       "    <tr>\n",
       "      <th>4</th>\n",
       "      <td>1995-05-01</td>\n",
       "      <td>121</td>\n",
       "      <td>5</td>\n",
       "      <td>25</td>\n",
       "      <td>4.795791</td>\n",
       "    </tr>\n",
       "  </tbody>\n",
       "</table>\n",
       "</div>"
      ],
      "text/plain": [
       "       Month  Passengers  t  t_squared  log_psngr\n",
       "0 1995-01-01         112  1          1   4.718499\n",
       "1 1995-02-01         118  2          4   4.770685\n",
       "2 1995-03-01         132  3          9   4.882802\n",
       "3 1995-04-01         129  4         16   4.859812\n",
       "4 1995-05-01         121  5         25   4.795791"
      ]
     },
     "execution_count": 110,
     "metadata": {},
     "output_type": "execute_result"
    }
   ],
   "source": [
    "data.head()"
   ]
  },
  {
   "cell_type": "code",
   "execution_count": 111,
   "id": "0b649167",
   "metadata": {
    "ExecuteTime": {
     "end_time": "2022-01-12T12:46:29.576328Z",
     "start_time": "2022-01-12T12:46:29.533631Z"
    }
   },
   "outputs": [
    {
     "data": {
      "text/plain": [
       "29.59097162530025"
      ]
     },
     "execution_count": 111,
     "metadata": {},
     "output_type": "execute_result"
    }
   ],
   "source": [
    "final_model = smf.ols('Passengers~t+t_squared',data=data).fit()\n",
    "pred_final = pd.Series(final_model.predict(data[['t','t_squared']]))\n",
    "rmse_final_model = RMSE(data['Passengers'], pred_final)\n",
    "rmse_final_model"
   ]
  },
  {
   "cell_type": "code",
   "execution_count": 113,
   "id": "df63f7e0",
   "metadata": {
    "ExecuteTime": {
     "end_time": "2022-01-12T12:46:57.700314Z",
     "start_time": "2022-01-12T12:46:57.674795Z"
    }
   },
   "outputs": [
    {
     "data": {
      "text/html": [
       "<div>\n",
       "<style scoped>\n",
       "    .dataframe tbody tr th:only-of-type {\n",
       "        vertical-align: middle;\n",
       "    }\n",
       "\n",
       "    .dataframe tbody tr th {\n",
       "        vertical-align: top;\n",
       "    }\n",
       "\n",
       "    .dataframe thead th {\n",
       "        text-align: right;\n",
       "    }\n",
       "</style>\n",
       "<table border=\"1\" class=\"dataframe\">\n",
       "  <thead>\n",
       "    <tr style=\"text-align: right;\">\n",
       "      <th></th>\n",
       "      <th>Actual</th>\n",
       "      <th>Predicted</th>\n",
       "    </tr>\n",
       "  </thead>\n",
       "  <tbody>\n",
       "    <tr>\n",
       "      <th>0</th>\n",
       "      <td>112</td>\n",
       "      <td>119.158137</td>\n",
       "    </tr>\n",
       "    <tr>\n",
       "      <th>1</th>\n",
       "      <td>118</td>\n",
       "      <td>120.460303</td>\n",
       "    </tr>\n",
       "    <tr>\n",
       "      <th>2</th>\n",
       "      <td>132</td>\n",
       "      <td>121.784439</td>\n",
       "    </tr>\n",
       "    <tr>\n",
       "      <th>3</th>\n",
       "      <td>129</td>\n",
       "      <td>123.130544</td>\n",
       "    </tr>\n",
       "    <tr>\n",
       "      <th>4</th>\n",
       "      <td>121</td>\n",
       "      <td>124.498617</td>\n",
       "    </tr>\n",
       "    <tr>\n",
       "      <th>...</th>\n",
       "      <td>...</td>\n",
       "      <td>...</td>\n",
       "    </tr>\n",
       "    <tr>\n",
       "      <th>91</th>\n",
       "      <td>405</td>\n",
       "      <td>327.618598</td>\n",
       "    </tr>\n",
       "    <tr>\n",
       "      <th>92</th>\n",
       "      <td>355</td>\n",
       "      <td>330.919950</td>\n",
       "    </tr>\n",
       "    <tr>\n",
       "      <th>93</th>\n",
       "      <td>306</td>\n",
       "      <td>334.243270</td>\n",
       "    </tr>\n",
       "    <tr>\n",
       "      <th>94</th>\n",
       "      <td>271</td>\n",
       "      <td>337.588559</td>\n",
       "    </tr>\n",
       "    <tr>\n",
       "      <th>95</th>\n",
       "      <td>306</td>\n",
       "      <td>340.955817</td>\n",
       "    </tr>\n",
       "  </tbody>\n",
       "</table>\n",
       "<p>96 rows × 2 columns</p>\n",
       "</div>"
      ],
      "text/plain": [
       "    Actual   Predicted\n",
       "0      112  119.158137\n",
       "1      118  120.460303\n",
       "2      132  121.784439\n",
       "3      129  123.130544\n",
       "4      121  124.498617\n",
       "..     ...         ...\n",
       "91     405  327.618598\n",
       "92     355  330.919950\n",
       "93     306  334.243270\n",
       "94     271  337.588559\n",
       "95     306  340.955817\n",
       "\n",
       "[96 rows x 2 columns]"
      ]
     },
     "execution_count": 113,
     "metadata": {},
     "output_type": "execute_result"
    }
   ],
   "source": [
    "pred_df = pd.DataFrame({'Actual' : data.Passengers, 'Predicted' : pred_final})\n",
    "pred_df"
   ]
  },
  {
   "cell_type": "code",
   "execution_count": null,
   "id": "c7935d15",
   "metadata": {},
   "outputs": [],
   "source": []
  },
  {
   "cell_type": "code",
   "execution_count": null,
   "id": "d048c2cf",
   "metadata": {},
   "outputs": [],
   "source": []
  },
  {
   "cell_type": "code",
   "execution_count": null,
   "id": "4a6d5030",
   "metadata": {},
   "outputs": [],
   "source": []
  }
 ],
 "metadata": {
  "kernelspec": {
   "display_name": "Python 3",
   "language": "python",
   "name": "python3"
  },
  "language_info": {
   "codemirror_mode": {
    "name": "ipython",
    "version": 3
   },
   "file_extension": ".py",
   "mimetype": "text/x-python",
   "name": "python",
   "nbconvert_exporter": "python",
   "pygments_lexer": "ipython3",
   "version": "3.8.8"
  },
  "varInspector": {
   "cols": {
    "lenName": 16,
    "lenType": 16,
    "lenVar": 40
   },
   "kernels_config": {
    "python": {
     "delete_cmd_postfix": "",
     "delete_cmd_prefix": "del ",
     "library": "var_list.py",
     "varRefreshCmd": "print(var_dic_list())"
    },
    "r": {
     "delete_cmd_postfix": ") ",
     "delete_cmd_prefix": "rm(",
     "library": "var_list.r",
     "varRefreshCmd": "cat(var_dic_list()) "
    }
   },
   "types_to_exclude": [
    "module",
    "function",
    "builtin_function_or_method",
    "instance",
    "_Feature"
   ],
   "window_display": false
  }
 },
 "nbformat": 4,
 "nbformat_minor": 5
}
