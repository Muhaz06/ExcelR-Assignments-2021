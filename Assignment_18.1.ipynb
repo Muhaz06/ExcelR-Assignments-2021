{
 "cells": [
  {
   "cell_type": "markdown",
   "id": "6fc12c92",
   "metadata": {},
   "source": [
    "# Forecasting - 01 "
   ]
  },
  {
   "cell_type": "code",
   "execution_count": 160,
   "id": "e14855ce",
   "metadata": {
    "ExecuteTime": {
     "end_time": "2022-01-12T11:14:44.943540Z",
     "start_time": "2022-01-12T11:14:44.933971Z"
    }
   },
   "outputs": [],
   "source": [
    "# Importing libraries\n",
    "import pandas as pd\n",
    "import numpy as np\n",
    "import matplotlib.pyplot as plt\n",
    "import seaborn as sns\n",
    "import warnings\n",
    "warnings.filterwarnings('ignore')"
   ]
  },
  {
   "cell_type": "code",
   "execution_count": 161,
   "id": "6763d010",
   "metadata": {
    "ExecuteTime": {
     "end_time": "2022-01-12T11:14:45.364599Z",
     "start_time": "2022-01-12T11:14:45.125851Z"
    }
   },
   "outputs": [
    {
     "data": {
      "text/html": [
       "<div>\n",
       "<style scoped>\n",
       "    .dataframe tbody tr th:only-of-type {\n",
       "        vertical-align: middle;\n",
       "    }\n",
       "\n",
       "    .dataframe tbody tr th {\n",
       "        vertical-align: top;\n",
       "    }\n",
       "\n",
       "    .dataframe thead th {\n",
       "        text-align: right;\n",
       "    }\n",
       "</style>\n",
       "<table border=\"1\" class=\"dataframe\">\n",
       "  <thead>\n",
       "    <tr style=\"text-align: right;\">\n",
       "      <th></th>\n",
       "      <th>Quarter</th>\n",
       "      <th>Sales</th>\n",
       "    </tr>\n",
       "  </thead>\n",
       "  <tbody>\n",
       "    <tr>\n",
       "      <th>0</th>\n",
       "      <td>Q1_86</td>\n",
       "      <td>1734.827000</td>\n",
       "    </tr>\n",
       "    <tr>\n",
       "      <th>1</th>\n",
       "      <td>Q2_86</td>\n",
       "      <td>2244.960999</td>\n",
       "    </tr>\n",
       "    <tr>\n",
       "      <th>2</th>\n",
       "      <td>Q3_86</td>\n",
       "      <td>2533.804993</td>\n",
       "    </tr>\n",
       "    <tr>\n",
       "      <th>3</th>\n",
       "      <td>Q4_86</td>\n",
       "      <td>2154.962997</td>\n",
       "    </tr>\n",
       "    <tr>\n",
       "      <th>4</th>\n",
       "      <td>Q1_87</td>\n",
       "      <td>1547.818996</td>\n",
       "    </tr>\n",
       "    <tr>\n",
       "      <th>5</th>\n",
       "      <td>Q2_87</td>\n",
       "      <td>2104.411995</td>\n",
       "    </tr>\n",
       "    <tr>\n",
       "      <th>6</th>\n",
       "      <td>Q3_87</td>\n",
       "      <td>2014.362999</td>\n",
       "    </tr>\n",
       "    <tr>\n",
       "      <th>7</th>\n",
       "      <td>Q4_87</td>\n",
       "      <td>1991.746998</td>\n",
       "    </tr>\n",
       "    <tr>\n",
       "      <th>8</th>\n",
       "      <td>Q1_88</td>\n",
       "      <td>1869.049999</td>\n",
       "    </tr>\n",
       "    <tr>\n",
       "      <th>9</th>\n",
       "      <td>Q2_88</td>\n",
       "      <td>2313.631996</td>\n",
       "    </tr>\n",
       "    <tr>\n",
       "      <th>10</th>\n",
       "      <td>Q3_88</td>\n",
       "      <td>2128.320000</td>\n",
       "    </tr>\n",
       "    <tr>\n",
       "      <th>11</th>\n",
       "      <td>Q4_88</td>\n",
       "      <td>2026.828999</td>\n",
       "    </tr>\n",
       "    <tr>\n",
       "      <th>12</th>\n",
       "      <td>Q1_89</td>\n",
       "      <td>1910.603996</td>\n",
       "    </tr>\n",
       "    <tr>\n",
       "      <th>13</th>\n",
       "      <td>Q2_89</td>\n",
       "      <td>2331.164993</td>\n",
       "    </tr>\n",
       "    <tr>\n",
       "      <th>14</th>\n",
       "      <td>Q3_89</td>\n",
       "      <td>2206.549995</td>\n",
       "    </tr>\n",
       "    <tr>\n",
       "      <th>15</th>\n",
       "      <td>Q4_89</td>\n",
       "      <td>2173.967995</td>\n",
       "    </tr>\n",
       "    <tr>\n",
       "      <th>16</th>\n",
       "      <td>Q1_90</td>\n",
       "      <td>2148.278000</td>\n",
       "    </tr>\n",
       "    <tr>\n",
       "      <th>17</th>\n",
       "      <td>Q2_90</td>\n",
       "      <td>2739.307999</td>\n",
       "    </tr>\n",
       "    <tr>\n",
       "      <th>18</th>\n",
       "      <td>Q3_90</td>\n",
       "      <td>2792.753998</td>\n",
       "    </tr>\n",
       "    <tr>\n",
       "      <th>19</th>\n",
       "      <td>Q4_90</td>\n",
       "      <td>2556.009995</td>\n",
       "    </tr>\n",
       "    <tr>\n",
       "      <th>20</th>\n",
       "      <td>Q1_91</td>\n",
       "      <td>2480.973999</td>\n",
       "    </tr>\n",
       "    <tr>\n",
       "      <th>21</th>\n",
       "      <td>Q2_91</td>\n",
       "      <td>3039.522995</td>\n",
       "    </tr>\n",
       "    <tr>\n",
       "      <th>22</th>\n",
       "      <td>Q3_91</td>\n",
       "      <td>3172.115997</td>\n",
       "    </tr>\n",
       "    <tr>\n",
       "      <th>23</th>\n",
       "      <td>Q4_91</td>\n",
       "      <td>2879.000999</td>\n",
       "    </tr>\n",
       "    <tr>\n",
       "      <th>24</th>\n",
       "      <td>Q1_92</td>\n",
       "      <td>2772.000000</td>\n",
       "    </tr>\n",
       "    <tr>\n",
       "      <th>25</th>\n",
       "      <td>Q2_92</td>\n",
       "      <td>3550.000000</td>\n",
       "    </tr>\n",
       "    <tr>\n",
       "      <th>26</th>\n",
       "      <td>Q3_92</td>\n",
       "      <td>3508.000000</td>\n",
       "    </tr>\n",
       "    <tr>\n",
       "      <th>27</th>\n",
       "      <td>Q4_92</td>\n",
       "      <td>3243.859993</td>\n",
       "    </tr>\n",
       "    <tr>\n",
       "      <th>28</th>\n",
       "      <td>Q1_93</td>\n",
       "      <td>3056.000000</td>\n",
       "    </tr>\n",
       "    <tr>\n",
       "      <th>29</th>\n",
       "      <td>Q2_93</td>\n",
       "      <td>3899.000000</td>\n",
       "    </tr>\n",
       "    <tr>\n",
       "      <th>30</th>\n",
       "      <td>Q3_93</td>\n",
       "      <td>3629.000000</td>\n",
       "    </tr>\n",
       "    <tr>\n",
       "      <th>31</th>\n",
       "      <td>Q4_93</td>\n",
       "      <td>3373.000000</td>\n",
       "    </tr>\n",
       "    <tr>\n",
       "      <th>32</th>\n",
       "      <td>Q1_94</td>\n",
       "      <td>3352.000000</td>\n",
       "    </tr>\n",
       "    <tr>\n",
       "      <th>33</th>\n",
       "      <td>Q2_94</td>\n",
       "      <td>4342.000000</td>\n",
       "    </tr>\n",
       "    <tr>\n",
       "      <th>34</th>\n",
       "      <td>Q3_94</td>\n",
       "      <td>4461.000000</td>\n",
       "    </tr>\n",
       "    <tr>\n",
       "      <th>35</th>\n",
       "      <td>Q4_94</td>\n",
       "      <td>4017.000000</td>\n",
       "    </tr>\n",
       "    <tr>\n",
       "      <th>36</th>\n",
       "      <td>Q1_95</td>\n",
       "      <td>3854.000000</td>\n",
       "    </tr>\n",
       "    <tr>\n",
       "      <th>37</th>\n",
       "      <td>Q2_95</td>\n",
       "      <td>4936.000000</td>\n",
       "    </tr>\n",
       "    <tr>\n",
       "      <th>38</th>\n",
       "      <td>Q3_95</td>\n",
       "      <td>4895.000000</td>\n",
       "    </tr>\n",
       "    <tr>\n",
       "      <th>39</th>\n",
       "      <td>Q4_95</td>\n",
       "      <td>4333.000000</td>\n",
       "    </tr>\n",
       "    <tr>\n",
       "      <th>40</th>\n",
       "      <td>Q1_96</td>\n",
       "      <td>4194.000000</td>\n",
       "    </tr>\n",
       "    <tr>\n",
       "      <th>41</th>\n",
       "      <td>Q2_96</td>\n",
       "      <td>5253.000000</td>\n",
       "    </tr>\n",
       "  </tbody>\n",
       "</table>\n",
       "</div>"
      ],
      "text/plain": [
       "   Quarter        Sales\n",
       "0    Q1_86  1734.827000\n",
       "1    Q2_86  2244.960999\n",
       "2    Q3_86  2533.804993\n",
       "3    Q4_86  2154.962997\n",
       "4    Q1_87  1547.818996\n",
       "5    Q2_87  2104.411995\n",
       "6    Q3_87  2014.362999\n",
       "7    Q4_87  1991.746998\n",
       "8    Q1_88  1869.049999\n",
       "9    Q2_88  2313.631996\n",
       "10   Q3_88  2128.320000\n",
       "11   Q4_88  2026.828999\n",
       "12   Q1_89  1910.603996\n",
       "13   Q2_89  2331.164993\n",
       "14   Q3_89  2206.549995\n",
       "15   Q4_89  2173.967995\n",
       "16   Q1_90  2148.278000\n",
       "17   Q2_90  2739.307999\n",
       "18   Q3_90  2792.753998\n",
       "19   Q4_90  2556.009995\n",
       "20   Q1_91  2480.973999\n",
       "21   Q2_91  3039.522995\n",
       "22   Q3_91  3172.115997\n",
       "23   Q4_91  2879.000999\n",
       "24   Q1_92  2772.000000\n",
       "25   Q2_92  3550.000000\n",
       "26   Q3_92  3508.000000\n",
       "27   Q4_92  3243.859993\n",
       "28   Q1_93  3056.000000\n",
       "29   Q2_93  3899.000000\n",
       "30   Q3_93  3629.000000\n",
       "31   Q4_93  3373.000000\n",
       "32   Q1_94  3352.000000\n",
       "33   Q2_94  4342.000000\n",
       "34   Q3_94  4461.000000\n",
       "35   Q4_94  4017.000000\n",
       "36   Q1_95  3854.000000\n",
       "37   Q2_95  4936.000000\n",
       "38   Q3_95  4895.000000\n",
       "39   Q4_95  4333.000000\n",
       "40   Q1_96  4194.000000\n",
       "41   Q2_96  5253.000000"
      ]
     },
     "execution_count": 161,
     "metadata": {},
     "output_type": "execute_result"
    }
   ],
   "source": [
    "data = pd.read_excel('CocaCola_Sales_Rawdata.xlsx')\n",
    "data"
   ]
  },
  {
   "cell_type": "code",
   "execution_count": 162,
   "id": "ef265315",
   "metadata": {
    "ExecuteTime": {
     "end_time": "2022-01-12T11:14:45.619706Z",
     "start_time": "2022-01-12T11:14:45.604300Z"
    }
   },
   "outputs": [
    {
     "data": {
      "text/plain": [
       "(42, 2)"
      ]
     },
     "execution_count": 162,
     "metadata": {},
     "output_type": "execute_result"
    }
   ],
   "source": [
    "data.shape"
   ]
  },
  {
   "cell_type": "code",
   "execution_count": 163,
   "id": "93e6d4cf",
   "metadata": {
    "ExecuteTime": {
     "end_time": "2022-01-12T11:14:46.267570Z",
     "start_time": "2022-01-12T11:14:46.178513Z"
    }
   },
   "outputs": [],
   "source": [
    "# We will extract Quarter values and Year values separately from 'Quarter column'\n",
    "data['Quarters'] = 0\n",
    "data['Year'] = 0\n",
    "for i in range(42):\n",
    "    p = data[\"Quarter\"][i]\n",
    "    data['Quarters'][i]= p[0:2]\n",
    "    data['Year'][i]= p[3:5]"
   ]
  },
  {
   "cell_type": "code",
   "execution_count": 164,
   "id": "12fc8dc8",
   "metadata": {
    "ExecuteTime": {
     "end_time": "2022-01-12T11:14:46.642088Z",
     "start_time": "2022-01-12T11:14:46.621513Z"
    }
   },
   "outputs": [
    {
     "data": {
      "text/html": [
       "<div>\n",
       "<style scoped>\n",
       "    .dataframe tbody tr th:only-of-type {\n",
       "        vertical-align: middle;\n",
       "    }\n",
       "\n",
       "    .dataframe tbody tr th {\n",
       "        vertical-align: top;\n",
       "    }\n",
       "\n",
       "    .dataframe thead th {\n",
       "        text-align: right;\n",
       "    }\n",
       "</style>\n",
       "<table border=\"1\" class=\"dataframe\">\n",
       "  <thead>\n",
       "    <tr style=\"text-align: right;\">\n",
       "      <th></th>\n",
       "      <th>Quarter</th>\n",
       "      <th>Sales</th>\n",
       "      <th>Quarters</th>\n",
       "      <th>Year</th>\n",
       "    </tr>\n",
       "  </thead>\n",
       "  <tbody>\n",
       "    <tr>\n",
       "      <th>0</th>\n",
       "      <td>Q1_86</td>\n",
       "      <td>1734.827000</td>\n",
       "      <td>Q1</td>\n",
       "      <td>86</td>\n",
       "    </tr>\n",
       "    <tr>\n",
       "      <th>1</th>\n",
       "      <td>Q2_86</td>\n",
       "      <td>2244.960999</td>\n",
       "      <td>Q2</td>\n",
       "      <td>86</td>\n",
       "    </tr>\n",
       "    <tr>\n",
       "      <th>2</th>\n",
       "      <td>Q3_86</td>\n",
       "      <td>2533.804993</td>\n",
       "      <td>Q3</td>\n",
       "      <td>86</td>\n",
       "    </tr>\n",
       "    <tr>\n",
       "      <th>3</th>\n",
       "      <td>Q4_86</td>\n",
       "      <td>2154.962997</td>\n",
       "      <td>Q4</td>\n",
       "      <td>86</td>\n",
       "    </tr>\n",
       "    <tr>\n",
       "      <th>4</th>\n",
       "      <td>Q1_87</td>\n",
       "      <td>1547.818996</td>\n",
       "      <td>Q1</td>\n",
       "      <td>87</td>\n",
       "    </tr>\n",
       "  </tbody>\n",
       "</table>\n",
       "</div>"
      ],
      "text/plain": [
       "  Quarter        Sales Quarters  Year\n",
       "0   Q1_86  1734.827000       Q1    86\n",
       "1   Q2_86  2244.960999       Q2    86\n",
       "2   Q3_86  2533.804993       Q3    86\n",
       "3   Q4_86  2154.962997       Q4    86\n",
       "4   Q1_87  1547.818996       Q1    87"
      ]
     },
     "execution_count": 164,
     "metadata": {},
     "output_type": "execute_result"
    }
   ],
   "source": [
    "data.head()"
   ]
  },
  {
   "cell_type": "code",
   "execution_count": 165,
   "id": "66740293",
   "metadata": {
    "ExecuteTime": {
     "end_time": "2022-01-12T11:14:47.035028Z",
     "start_time": "2022-01-12T11:14:47.002162Z"
    }
   },
   "outputs": [
    {
     "data": {
      "text/html": [
       "<div>\n",
       "<style scoped>\n",
       "    .dataframe tbody tr th:only-of-type {\n",
       "        vertical-align: middle;\n",
       "    }\n",
       "\n",
       "    .dataframe tbody tr th {\n",
       "        vertical-align: top;\n",
       "    }\n",
       "\n",
       "    .dataframe thead th {\n",
       "        text-align: right;\n",
       "    }\n",
       "</style>\n",
       "<table border=\"1\" class=\"dataframe\">\n",
       "  <thead>\n",
       "    <tr style=\"text-align: right;\">\n",
       "      <th></th>\n",
       "      <th>Quarter</th>\n",
       "      <th>Sales</th>\n",
       "      <th>Quarters</th>\n",
       "      <th>Year</th>\n",
       "      <th>Q1</th>\n",
       "      <th>Q2</th>\n",
       "      <th>Q3</th>\n",
       "      <th>Q4</th>\n",
       "    </tr>\n",
       "  </thead>\n",
       "  <tbody>\n",
       "    <tr>\n",
       "      <th>0</th>\n",
       "      <td>Q1_86</td>\n",
       "      <td>1734.827000</td>\n",
       "      <td>Q1</td>\n",
       "      <td>86</td>\n",
       "      <td>1</td>\n",
       "      <td>0</td>\n",
       "      <td>0</td>\n",
       "      <td>0</td>\n",
       "    </tr>\n",
       "    <tr>\n",
       "      <th>1</th>\n",
       "      <td>Q2_86</td>\n",
       "      <td>2244.960999</td>\n",
       "      <td>Q2</td>\n",
       "      <td>86</td>\n",
       "      <td>0</td>\n",
       "      <td>1</td>\n",
       "      <td>0</td>\n",
       "      <td>0</td>\n",
       "    </tr>\n",
       "    <tr>\n",
       "      <th>2</th>\n",
       "      <td>Q3_86</td>\n",
       "      <td>2533.804993</td>\n",
       "      <td>Q3</td>\n",
       "      <td>86</td>\n",
       "      <td>0</td>\n",
       "      <td>0</td>\n",
       "      <td>1</td>\n",
       "      <td>0</td>\n",
       "    </tr>\n",
       "    <tr>\n",
       "      <th>3</th>\n",
       "      <td>Q4_86</td>\n",
       "      <td>2154.962997</td>\n",
       "      <td>Q4</td>\n",
       "      <td>86</td>\n",
       "      <td>0</td>\n",
       "      <td>0</td>\n",
       "      <td>0</td>\n",
       "      <td>1</td>\n",
       "    </tr>\n",
       "    <tr>\n",
       "      <th>4</th>\n",
       "      <td>Q1_87</td>\n",
       "      <td>1547.818996</td>\n",
       "      <td>Q1</td>\n",
       "      <td>87</td>\n",
       "      <td>1</td>\n",
       "      <td>0</td>\n",
       "      <td>0</td>\n",
       "      <td>0</td>\n",
       "    </tr>\n",
       "  </tbody>\n",
       "</table>\n",
       "</div>"
      ],
      "text/plain": [
       "  Quarter        Sales Quarters  Year  Q1  Q2  Q3  Q4\n",
       "0   Q1_86  1734.827000       Q1    86   1   0   0   0\n",
       "1   Q2_86  2244.960999       Q2    86   0   1   0   0\n",
       "2   Q3_86  2533.804993       Q3    86   0   0   1   0\n",
       "3   Q4_86  2154.962997       Q4    86   0   0   0   1\n",
       "4   Q1_87  1547.818996       Q1    87   1   0   0   0"
      ]
     },
     "execution_count": 165,
     "metadata": {},
     "output_type": "execute_result"
    }
   ],
   "source": [
    "# Getting dummy variables for Quarters Q1, Q2, Q3, Q4 \n",
    "Quarters_Dummies = pd.DataFrame(pd.get_dummies(data['Quarters']))\n",
    "data = pd.concat([data,Quarters_Dummies],axis = 1)\n",
    "data.head()"
   ]
  },
  {
   "cell_type": "code",
   "execution_count": 166,
   "id": "176fe0de",
   "metadata": {
    "ExecuteTime": {
     "end_time": "2022-01-12T11:14:47.968123Z",
     "start_time": "2022-01-12T11:14:47.713144Z"
    }
   },
   "outputs": [
    {
     "data": {
      "text/plain": [
       "[<matplotlib.lines.Line2D at 0x18714ed4f40>]"
      ]
     },
     "execution_count": 166,
     "metadata": {},
     "output_type": "execute_result"
    },
    {
     "data": {
      "image/png": "[encoded data removed]",
      "text/plain": [
       "<Figure size 576x360 with 1 Axes>"
      ]
     },
     "metadata": {
      "needs_background": "light"
     },
     "output_type": "display_data"
    }
   ],
   "source": [
    "# Lineplot for Sales of CocaCola\n",
    "plt.figure(figsize=(8,5))\n",
    "plt.plot(data['Sales'], color = 'blue', linewidth=3)"
   ]
  },
  {
   "cell_type": "code",
   "execution_count": 167,
   "id": "9e935149",
   "metadata": {
    "ExecuteTime": {
     "end_time": "2022-01-12T11:14:49.097359Z",
     "start_time": "2022-01-12T11:14:48.455015Z"
    }
   },
   "outputs": [
    {
     "data": {
      "text/plain": [
       "<AxesSubplot:xlabel='Year', ylabel='Sales'>"
      ]
     },
     "execution_count": 167,
     "metadata": {},
     "output_type": "execute_result"
    },
    {
     "data": {
      "image/png": "[encoded data removed]",
      "text/plain": [
       "<Figure size 576x360 with 1 Axes>"
      ]
     },
     "metadata": {
      "needs_background": "light"
     },
     "output_type": "display_data"
    }
   ],
   "source": [
    "plt.figure(figsize=(8,5))\n",
    "sns.lineplot(x=\"Year\",y=\"Sales\",data=data)"
   ]
  },
  {
   "cell_type": "code",
   "execution_count": 168,
   "id": "56423049",
   "metadata": {
    "ExecuteTime": {
     "end_time": "2022-01-12T11:14:49.851980Z",
     "start_time": "2022-01-12T11:14:49.282211Z"
    }
   },
   "outputs": [
    {
     "data": {
      "image/png": "[encoded data removed]",
      "text/plain": [
       "<Figure size 432x288 with 1 Axes>"
      ]
     },
     "metadata": {
      "needs_background": "light"
     },
     "output_type": "display_data"
    },
    {
     "data": {
      "image/png": "[encoded data removed]",
      "text/plain": [
       "<Figure size 432x288 with 1 Axes>"
      ]
     },
     "metadata": {
      "needs_background": "light"
     },
     "output_type": "display_data"
    }
   ],
   "source": [
    "import statsmodels.graphics.tsaplots as tsa_plots\n",
    "tsa_plots.plot_acf(data.Sales,lags=12)\n",
    "tsa_plots.plot_pacf(data.Sales,lags=12)\n",
    "plt.show()"
   ]
  },
  {
   "cell_type": "markdown",
   "id": "74767daa",
   "metadata": {},
   "source": [
    "# Data Driven Forecasting Methods"
   ]
  },
  {
   "cell_type": "code",
   "execution_count": 169,
   "id": "b7b8a82b",
   "metadata": {
    "ExecuteTime": {
     "end_time": "2022-01-12T11:14:50.617931Z",
     "start_time": "2022-01-12T11:14:50.607213Z"
    }
   },
   "outputs": [],
   "source": [
    "from statsmodels.tsa.holtwinters import SimpleExpSmoothing # SES\n",
    "from statsmodels.tsa.holtwinters import Holt # Holts Exponential Smoothing\n",
    "from statsmodels.tsa.holtwinters import ExponentialSmoothing "
   ]
  },
  {
   "cell_type": "code",
   "execution_count": 170,
   "id": "b59d6944",
   "metadata": {
    "ExecuteTime": {
     "end_time": "2022-01-12T11:14:51.100729Z",
     "start_time": "2022-01-12T11:14:51.092471Z"
    }
   },
   "outputs": [],
   "source": [
    "#Splitting Data into Train and Test (77/33)\n",
    "Train = data.head(32)\n",
    "Test = data.tail(10)"
   ]
  },
  {
   "cell_type": "markdown",
   "id": "1dbfa425",
   "metadata": {
    "ExecuteTime": {
     "end_time": "2022-01-10T14:13:52.466606Z",
     "start_time": "2022-01-10T14:13:52.453641Z"
    }
   },
   "source": [
    "## Moving Average Method"
   ]
  },
  {
   "cell_type": "code",
   "execution_count": 171,
   "id": "cc369480",
   "metadata": {
    "ExecuteTime": {
     "end_time": "2022-01-12T11:14:52.512248Z",
     "start_time": "2022-01-12T11:14:52.159232Z"
    }
   },
   "outputs": [
    {
     "data": {
      "text/plain": [
       "<matplotlib.legend.Legend at 0x1871257f8e0>"
      ]
     },
     "execution_count": 171,
     "metadata": {},
     "output_type": "execute_result"
    },
    {
     "data": {
      "image/png": "[encoded data removed]",
      "text/plain": [
       "<Figure size 864x288 with 1 Axes>"
      ]
     },
     "metadata": {
      "needs_background": "light"
     },
     "output_type": "display_data"
    }
   ],
   "source": [
    "plt.figure(figsize=(12,4))\n",
    "data.Sales.plot(label=\"org\")\n",
    "for i in range(2,8,2):\n",
    "    data[\"Sales\"].rolling(i).mean().plot(label=str(i))\n",
    "plt.legend(loc='best')"
   ]
  },
  {
   "cell_type": "markdown",
   "id": "13f6b004",
   "metadata": {},
   "source": [
    "## Time series decomposition plot"
   ]
  },
  {
   "cell_type": "code",
   "execution_count": 172,
   "id": "009f3c6c",
   "metadata": {
    "ExecuteTime": {
     "end_time": "2022-01-12T11:14:54.240401Z",
     "start_time": "2022-01-12T11:14:53.576527Z"
    }
   },
   "outputs": [
    {
     "data": {
      "image/png": "[encoded data removed]",
      "text/plain": [
       "<Figure size 432x288 with 4 Axes>"
      ]
     },
     "metadata": {
      "needs_background": "light"
     },
     "output_type": "display_data"
    }
   ],
   "source": [
    "from statsmodels.tsa.seasonal import seasonal_decompose\n",
    "\n",
    "decompose_ts_add = seasonal_decompose(data.Sales,period=12)\n",
    "decompose_ts_add.plot()\n",
    "plt.show()"
   ]
  },
  {
   "cell_type": "markdown",
   "id": "51e010bf",
   "metadata": {},
   "source": [
    "## Evaluation Metric RMSE"
   ]
  },
  {
   "cell_type": "code",
   "execution_count": 173,
   "id": "cc47eb5e",
   "metadata": {
    "ExecuteTime": {
     "end_time": "2022-01-12T11:14:54.969901Z",
     "start_time": "2022-01-12T11:14:54.958606Z"
    }
   },
   "outputs": [],
   "source": [
    "def RMSE(org, pred):\n",
    "    rmse=np.sqrt(np.mean((np.array(org)-np.array(pred))**2))\n",
    "    return rmse"
   ]
  },
  {
   "cell_type": "markdown",
   "id": "9639316f",
   "metadata": {},
   "source": [
    "## Simple Exponential Method"
   ]
  },
  {
   "cell_type": "code",
   "execution_count": 174,
   "id": "a90adea5",
   "metadata": {
    "ExecuteTime": {
     "end_time": "2022-01-12T11:14:55.996376Z",
     "start_time": "2022-01-12T11:14:55.958983Z"
    }
   },
   "outputs": [
    {
     "data": {
      "text/plain": [
       "1034.935926527898"
      ]
     },
     "execution_count": 174,
     "metadata": {},
     "output_type": "execute_result"
    }
   ],
   "source": [
    "ses_model = SimpleExpSmoothing(Train[\"Sales\"]).fit()\n",
    "pred_ses = ses_model.predict(start = Test.index[0],end = Test.index[-1])\n",
    "rmse_ses = RMSE(Test.Sales, pred_ses)\n",
    "rmse_ses"
   ]
  },
  {
   "cell_type": "markdown",
   "id": "29724a1b",
   "metadata": {},
   "source": [
    "## Holt Method"
   ]
  },
  {
   "cell_type": "code",
   "execution_count": 175,
   "id": "9d25c1a0",
   "metadata": {
    "ExecuteTime": {
     "end_time": "2022-01-12T11:14:57.159175Z",
     "start_time": "2022-01-12T11:14:57.060865Z"
    }
   },
   "outputs": [
    {
     "data": {
      "text/plain": [
       "786.7664832816314"
      ]
     },
     "execution_count": 175,
     "metadata": {},
     "output_type": "execute_result"
    }
   ],
   "source": [
    "hw_model = Holt(Train[\"Sales\"]).fit()\n",
    "pred_hw = hw_model.predict(start = Test.index[0],end = Test.index[-1])\n",
    "rmse_hw = RMSE(Test.Sales, pred_hw)\n",
    "rmse_hw"
   ]
  },
  {
   "cell_type": "markdown",
   "id": "2097ca1b",
   "metadata": {
    "ExecuteTime": {
     "end_time": "2022-01-10T15:07:23.557192Z",
     "start_time": "2022-01-10T15:07:23.537987Z"
    }
   },
   "source": [
    "## Holts winter exponential smoothing with additive seasonality and additive trend"
   ]
  },
  {
   "cell_type": "code",
   "execution_count": 210,
   "id": "7c9c3dba",
   "metadata": {
    "ExecuteTime": {
     "end_time": "2022-01-12T11:26:47.619344Z",
     "start_time": "2022-01-12T11:26:47.373925Z"
    }
   },
   "outputs": [
    {
     "data": {
      "text/plain": [
       "478.1154043906915"
      ]
     },
     "execution_count": 210,
     "metadata": {},
     "output_type": "execute_result"
    }
   ],
   "source": [
    "hwe_model_add_add = ExponentialSmoothing(Train[\"Sales\"],seasonal=\"add\",trend=\"add\",seasonal_periods=4).fit()\n",
    "pred_hwe_add_add = hwe_model_add_add.predict(start = Test.index[0],end = Test.index[-1])\n",
    "rmse_hwe_add_add = RMSE(Test.Sales, pred_hwe_add_add)\n",
    "rmse_hwe_add_add"
   ]
  },
  {
   "cell_type": "markdown",
   "id": "b2a02483",
   "metadata": {},
   "source": [
    "## Holts winter exponential smoothing with multiplicative seasonality and additive trend"
   ]
  },
  {
   "cell_type": "code",
   "execution_count": 211,
   "id": "aeb7da1c",
   "metadata": {
    "ExecuteTime": {
     "end_time": "2022-01-12T11:26:50.172825Z",
     "start_time": "2022-01-12T11:26:49.892827Z"
    }
   },
   "outputs": [
    {
     "data": {
      "text/plain": [
       "630.5343070137576"
      ]
     },
     "execution_count": 211,
     "metadata": {},
     "output_type": "execute_result"
    }
   ],
   "source": [
    "hwe_model_mul_add = ExponentialSmoothing(Train[\"Sales\"],seasonal=\"mul\",trend=\"add\",seasonal_periods=4).fit() \n",
    "pred_hwe_mul_add = hwe_model_mul_add.predict(start = Test.index[0],end = Test.index[-1])\n",
    "rmse_hwe_mul_add = RMSE(Test.Sales, pred_hwe_mul_add)\n",
    "rmse_hwe_mul_add"
   ]
  },
  {
   "cell_type": "markdown",
   "id": "d41a65d2",
   "metadata": {},
   "source": [
    "## Model based Forecasting Methods"
   ]
  },
  {
   "cell_type": "code",
   "execution_count": 197,
   "id": "5ac6373d",
   "metadata": {
    "ExecuteTime": {
     "end_time": "2022-01-12T11:26:27.344194Z",
     "start_time": "2022-01-12T11:26:27.300450Z"
    }
   },
   "outputs": [
    {
     "data": {
      "text/html": [
       "<div>\n",
       "<style scoped>\n",
       "    .dataframe tbody tr th:only-of-type {\n",
       "        vertical-align: middle;\n",
       "    }\n",
       "\n",
       "    .dataframe tbody tr th {\n",
       "        vertical-align: top;\n",
       "    }\n",
       "\n",
       "    .dataframe thead th {\n",
       "        text-align: right;\n",
       "    }\n",
       "</style>\n",
       "<table border=\"1\" class=\"dataframe\">\n",
       "  <thead>\n",
       "    <tr style=\"text-align: right;\">\n",
       "      <th></th>\n",
       "      <th>Quarter</th>\n",
       "      <th>Sales</th>\n",
       "      <th>Quarters</th>\n",
       "      <th>Year</th>\n",
       "      <th>Q1</th>\n",
       "      <th>Q2</th>\n",
       "      <th>Q3</th>\n",
       "      <th>Q4</th>\n",
       "      <th>t</th>\n",
       "      <th>t_squared</th>\n",
       "      <th>log_sales</th>\n",
       "    </tr>\n",
       "  </thead>\n",
       "  <tbody>\n",
       "    <tr>\n",
       "      <th>0</th>\n",
       "      <td>Q1_86</td>\n",
       "      <td>1734.827000</td>\n",
       "      <td>Q1</td>\n",
       "      <td>86</td>\n",
       "      <td>1</td>\n",
       "      <td>0</td>\n",
       "      <td>0</td>\n",
       "      <td>0</td>\n",
       "      <td>1</td>\n",
       "      <td>1</td>\n",
       "      <td>7.458663</td>\n",
       "    </tr>\n",
       "    <tr>\n",
       "      <th>1</th>\n",
       "      <td>Q2_86</td>\n",
       "      <td>2244.960999</td>\n",
       "      <td>Q2</td>\n",
       "      <td>86</td>\n",
       "      <td>0</td>\n",
       "      <td>1</td>\n",
       "      <td>0</td>\n",
       "      <td>0</td>\n",
       "      <td>2</td>\n",
       "      <td>4</td>\n",
       "      <td>7.716443</td>\n",
       "    </tr>\n",
       "    <tr>\n",
       "      <th>2</th>\n",
       "      <td>Q3_86</td>\n",
       "      <td>2533.804993</td>\n",
       "      <td>Q3</td>\n",
       "      <td>86</td>\n",
       "      <td>0</td>\n",
       "      <td>0</td>\n",
       "      <td>1</td>\n",
       "      <td>0</td>\n",
       "      <td>3</td>\n",
       "      <td>9</td>\n",
       "      <td>7.837477</td>\n",
       "    </tr>\n",
       "    <tr>\n",
       "      <th>3</th>\n",
       "      <td>Q4_86</td>\n",
       "      <td>2154.962997</td>\n",
       "      <td>Q4</td>\n",
       "      <td>86</td>\n",
       "      <td>0</td>\n",
       "      <td>0</td>\n",
       "      <td>0</td>\n",
       "      <td>1</td>\n",
       "      <td>4</td>\n",
       "      <td>16</td>\n",
       "      <td>7.675529</td>\n",
       "    </tr>\n",
       "    <tr>\n",
       "      <th>4</th>\n",
       "      <td>Q1_87</td>\n",
       "      <td>1547.818996</td>\n",
       "      <td>Q1</td>\n",
       "      <td>87</td>\n",
       "      <td>1</td>\n",
       "      <td>0</td>\n",
       "      <td>0</td>\n",
       "      <td>0</td>\n",
       "      <td>5</td>\n",
       "      <td>25</td>\n",
       "      <td>7.344602</td>\n",
       "    </tr>\n",
       "  </tbody>\n",
       "</table>\n",
       "</div>"
      ],
      "text/plain": [
       "  Quarter        Sales Quarters  Year  Q1  Q2  Q3  Q4  t  t_squared  log_sales\n",
       "0   Q1_86  1734.827000       Q1    86   1   0   0   0  1          1   7.458663\n",
       "1   Q2_86  2244.960999       Q2    86   0   1   0   0  2          4   7.716443\n",
       "2   Q3_86  2533.804993       Q3    86   0   0   1   0  3          9   7.837477\n",
       "3   Q4_86  2154.962997       Q4    86   0   0   0   1  4         16   7.675529\n",
       "4   Q1_87  1547.818996       Q1    87   1   0   0   0  5         25   7.344602"
      ]
     },
     "execution_count": 197,
     "metadata": {},
     "output_type": "execute_result"
    }
   ],
   "source": [
    "# Data preprocessing for models\n",
    "data[\"t\"] = np.arange(1,43)\n",
    "data[\"t_squared\"] = data[\"t\"]*data[\"t\"]\n",
    "\n",
    "data[\"log_sales\"] = np.log(data[\"Sales\"])\n",
    "\n",
    "data.head()"
   ]
  },
  {
   "cell_type": "code",
   "execution_count": 198,
   "id": "302c001f",
   "metadata": {
    "ExecuteTime": {
     "end_time": "2022-01-12T11:26:27.898175Z",
     "start_time": "2022-01-12T11:26:27.880070Z"
    }
   },
   "outputs": [],
   "source": [
    "#Splitting data into Train and Test\n",
    "Train = data.head(32)\n",
    "Test = data.tail(10)"
   ]
  },
  {
   "cell_type": "code",
   "execution_count": 199,
   "id": "dda9e7c7",
   "metadata": {
    "ExecuteTime": {
     "end_time": "2022-01-12T11:26:28.295593Z",
     "start_time": "2022-01-12T11:26:28.261912Z"
    }
   },
   "outputs": [
    {
     "data": {
      "text/html": [
       "<div>\n",
       "<style scoped>\n",
       "    .dataframe tbody tr th:only-of-type {\n",
       "        vertical-align: middle;\n",
       "    }\n",
       "\n",
       "    .dataframe tbody tr th {\n",
       "        vertical-align: top;\n",
       "    }\n",
       "\n",
       "    .dataframe thead th {\n",
       "        text-align: right;\n",
       "    }\n",
       "</style>\n",
       "<table border=\"1\" class=\"dataframe\">\n",
       "  <thead>\n",
       "    <tr style=\"text-align: right;\">\n",
       "      <th></th>\n",
       "      <th>Quarter</th>\n",
       "      <th>Sales</th>\n",
       "      <th>Quarters</th>\n",
       "      <th>Year</th>\n",
       "      <th>t</th>\n",
       "      <th>t_squared</th>\n",
       "      <th>log_sales</th>\n",
       "    </tr>\n",
       "  </thead>\n",
       "  <tbody>\n",
       "    <tr>\n",
       "      <th>0</th>\n",
       "      <td>Q1_86</td>\n",
       "      <td>1734.827000</td>\n",
       "      <td>Q1</td>\n",
       "      <td>86</td>\n",
       "      <td>1</td>\n",
       "      <td>1</td>\n",
       "      <td>7.458663</td>\n",
       "    </tr>\n",
       "    <tr>\n",
       "      <th>1</th>\n",
       "      <td>Q2_86</td>\n",
       "      <td>2244.960999</td>\n",
       "      <td>Q2</td>\n",
       "      <td>86</td>\n",
       "      <td>2</td>\n",
       "      <td>4</td>\n",
       "      <td>7.716443</td>\n",
       "    </tr>\n",
       "    <tr>\n",
       "      <th>2</th>\n",
       "      <td>Q3_86</td>\n",
       "      <td>2533.804993</td>\n",
       "      <td>Q3</td>\n",
       "      <td>86</td>\n",
       "      <td>3</td>\n",
       "      <td>9</td>\n",
       "      <td>7.837477</td>\n",
       "    </tr>\n",
       "    <tr>\n",
       "      <th>3</th>\n",
       "      <td>Q4_86</td>\n",
       "      <td>2154.962997</td>\n",
       "      <td>Q4</td>\n",
       "      <td>86</td>\n",
       "      <td>4</td>\n",
       "      <td>16</td>\n",
       "      <td>7.675529</td>\n",
       "    </tr>\n",
       "    <tr>\n",
       "      <th>4</th>\n",
       "      <td>Q1_87</td>\n",
       "      <td>1547.818996</td>\n",
       "      <td>Q1</td>\n",
       "      <td>87</td>\n",
       "      <td>5</td>\n",
       "      <td>25</td>\n",
       "      <td>7.344602</td>\n",
       "    </tr>\n",
       "  </tbody>\n",
       "</table>\n",
       "</div>"
      ],
      "text/plain": [
       "  Quarter        Sales Quarters  Year  t  t_squared  log_sales\n",
       "0   Q1_86  1734.827000       Q1    86  1          1   7.458663\n",
       "1   Q2_86  2244.960999       Q2    86  2          4   7.716443\n",
       "2   Q3_86  2533.804993       Q3    86  3          9   7.837477\n",
       "3   Q4_86  2154.962997       Q4    86  4         16   7.675529\n",
       "4   Q1_87  1547.818996       Q1    87  5         25   7.344602"
      ]
     },
     "execution_count": 199,
     "metadata": {},
     "output_type": "execute_result"
    }
   ],
   "source": [
    "train.head()"
   ]
  },
  {
   "cell_type": "code",
   "execution_count": 200,
   "id": "f755d871",
   "metadata": {
    "ExecuteTime": {
     "end_time": "2022-01-12T11:26:28.949250Z",
     "start_time": "2022-01-12T11:26:28.930468Z"
    }
   },
   "outputs": [
    {
     "data": {
      "text/html": [
       "<div>\n",
       "<style scoped>\n",
       "    .dataframe tbody tr th:only-of-type {\n",
       "        vertical-align: middle;\n",
       "    }\n",
       "\n",
       "    .dataframe tbody tr th {\n",
       "        vertical-align: top;\n",
       "    }\n",
       "\n",
       "    .dataframe thead th {\n",
       "        text-align: right;\n",
       "    }\n",
       "</style>\n",
       "<table border=\"1\" class=\"dataframe\">\n",
       "  <thead>\n",
       "    <tr style=\"text-align: right;\">\n",
       "      <th></th>\n",
       "      <th>Quarter</th>\n",
       "      <th>Sales</th>\n",
       "      <th>Quarters</th>\n",
       "      <th>Year</th>\n",
       "      <th>t</th>\n",
       "      <th>t_squared</th>\n",
       "      <th>log_sales</th>\n",
       "    </tr>\n",
       "  </thead>\n",
       "  <tbody>\n",
       "    <tr>\n",
       "      <th>32</th>\n",
       "      <td>Q1_94</td>\n",
       "      <td>3352.0</td>\n",
       "      <td>Q1</td>\n",
       "      <td>94</td>\n",
       "      <td>33</td>\n",
       "      <td>1089</td>\n",
       "      <td>8.117312</td>\n",
       "    </tr>\n",
       "    <tr>\n",
       "      <th>33</th>\n",
       "      <td>Q2_94</td>\n",
       "      <td>4342.0</td>\n",
       "      <td>Q2</td>\n",
       "      <td>94</td>\n",
       "      <td>34</td>\n",
       "      <td>1156</td>\n",
       "      <td>8.376090</td>\n",
       "    </tr>\n",
       "    <tr>\n",
       "      <th>34</th>\n",
       "      <td>Q3_94</td>\n",
       "      <td>4461.0</td>\n",
       "      <td>Q3</td>\n",
       "      <td>94</td>\n",
       "      <td>35</td>\n",
       "      <td>1225</td>\n",
       "      <td>8.403128</td>\n",
       "    </tr>\n",
       "    <tr>\n",
       "      <th>35</th>\n",
       "      <td>Q4_94</td>\n",
       "      <td>4017.0</td>\n",
       "      <td>Q4</td>\n",
       "      <td>94</td>\n",
       "      <td>36</td>\n",
       "      <td>1296</td>\n",
       "      <td>8.298291</td>\n",
       "    </tr>\n",
       "    <tr>\n",
       "      <th>36</th>\n",
       "      <td>Q1_95</td>\n",
       "      <td>3854.0</td>\n",
       "      <td>Q1</td>\n",
       "      <td>95</td>\n",
       "      <td>37</td>\n",
       "      <td>1369</td>\n",
       "      <td>8.256867</td>\n",
       "    </tr>\n",
       "  </tbody>\n",
       "</table>\n",
       "</div>"
      ],
      "text/plain": [
       "   Quarter   Sales Quarters  Year   t  t_squared  log_sales\n",
       "32   Q1_94  3352.0       Q1    94  33       1089   8.117312\n",
       "33   Q2_94  4342.0       Q2    94  34       1156   8.376090\n",
       "34   Q3_94  4461.0       Q3    94  35       1225   8.403128\n",
       "35   Q4_94  4017.0       Q4    94  36       1296   8.298291\n",
       "36   Q1_95  3854.0       Q1    95  37       1369   8.256867"
      ]
     },
     "execution_count": 200,
     "metadata": {},
     "output_type": "execute_result"
    }
   ],
   "source": [
    "test.head()"
   ]
  },
  {
   "cell_type": "markdown",
   "id": "9f53053b",
   "metadata": {},
   "source": [
    "## Splitting Data"
   ]
  },
  {
   "cell_type": "code",
   "execution_count": 201,
   "id": "3c99e6be",
   "metadata": {
    "ExecuteTime": {
     "end_time": "2022-01-12T11:26:29.387880Z",
     "start_time": "2022-01-12T11:26:29.367413Z"
    }
   },
   "outputs": [],
   "source": [
    "# Splitting data into Train and Test (77/33)\n",
    "Train = data.head(32)\n",
    "Test = data.tail(10)"
   ]
  },
  {
   "cell_type": "markdown",
   "id": "7a7c45b2",
   "metadata": {},
   "source": [
    "## Linear Model"
   ]
  },
  {
   "cell_type": "code",
   "execution_count": 202,
   "id": "620fe193",
   "metadata": {
    "ExecuteTime": {
     "end_time": "2022-01-12T11:26:30.292299Z",
     "start_time": "2022-01-12T11:26:30.258730Z"
    }
   },
   "outputs": [
    {
     "data": {
      "text/plain": [
       "752.9233932767115"
      ]
     },
     "execution_count": 202,
     "metadata": {},
     "output_type": "execute_result"
    }
   ],
   "source": [
    "import statsmodels.formula.api as smf \n",
    "\n",
    "linear_model = smf.ols('Sales~t',data=Train).fit()\n",
    "pred_linear =  pd.Series(linear_model.predict(pd.DataFrame(Test['t'])))\n",
    "rmse_linear_model = RMSE(Test['Sales'], pred_linear)\n",
    "rmse_linear_model"
   ]
  },
  {
   "cell_type": "markdown",
   "id": "0ca26b34",
   "metadata": {},
   "source": [
    "## Exponential Model"
   ]
  },
  {
   "cell_type": "code",
   "execution_count": 203,
   "id": "b6584d58",
   "metadata": {
    "ExecuteTime": {
     "end_time": "2022-01-12T11:26:31.140750Z",
     "start_time": "2022-01-12T11:26:31.104821Z"
    }
   },
   "outputs": [
    {
     "data": {
      "text/plain": [
       "590.3316432076576"
      ]
     },
     "execution_count": 203,
     "metadata": {},
     "output_type": "execute_result"
    }
   ],
   "source": [
    "Exp = smf.ols('log_sales~t',data=train).fit()\n",
    "pred_Exp = pd.Series(Exp.predict(pd.DataFrame(test['t'])))\n",
    "rmse_exp = RMSE(Test['Sales'], np.exp(pred_Exp))\n",
    "rmse_exp"
   ]
  },
  {
   "cell_type": "markdown",
   "id": "d90b9cf0",
   "metadata": {},
   "source": [
    "## Quadratic Model"
   ]
  },
  {
   "cell_type": "code",
   "execution_count": 204,
   "id": "6e5c6878",
   "metadata": {
    "ExecuteTime": {
     "end_time": "2022-01-12T11:26:31.949009Z",
     "start_time": "2022-01-12T11:26:31.919399Z"
    }
   },
   "outputs": [
    {
     "data": {
      "text/plain": [
       "457.73573554072897"
      ]
     },
     "execution_count": 204,
     "metadata": {},
     "output_type": "execute_result"
    }
   ],
   "source": [
    "Quad = smf.ols('Sales~t+t_squared',data=Train).fit()\n",
    "pred_Quad = pd.Series(Quad.predict(Test[[\"t\",\"t_squared\"]]))\n",
    "rmse_quad_model = RMSE(Test['Sales'], pred_Quad)\n",
    "rmse_quad_model"
   ]
  },
  {
   "cell_type": "markdown",
   "id": "c33c56ea",
   "metadata": {},
   "source": [
    "## Additive Seasonality model"
   ]
  },
  {
   "cell_type": "code",
   "execution_count": 205,
   "id": "2751f950",
   "metadata": {
    "ExecuteTime": {
     "end_time": "2022-01-12T11:26:32.540747Z",
     "start_time": "2022-01-12T11:26:32.508757Z"
    }
   },
   "outputs": [
    {
     "data": {
      "text/plain": [
       "1850.4665461858353"
      ]
     },
     "execution_count": 205,
     "metadata": {},
     "output_type": "execute_result"
    }
   ],
   "source": [
    "add_sea = smf.ols('Sales~Q1+Q2+Q3',data=Train).fit()\n",
    "pred_add_sea = pd.Series(add_sea.predict(Test[['Q1', 'Q2', 'Q3']]))\n",
    "rmse_add_sea = RMSE(Test['Sales'], pred_add_sea)\n",
    "rmse_add_sea"
   ]
  },
  {
   "cell_type": "markdown",
   "id": "c114029a",
   "metadata": {},
   "source": [
    "## Additive Seasonality Quadratic model"
   ]
  },
  {
   "cell_type": "code",
   "execution_count": 206,
   "id": "58bc879b",
   "metadata": {
    "ExecuteTime": {
     "end_time": "2022-01-12T11:26:33.267598Z",
     "start_time": "2022-01-12T11:26:33.207928Z"
    }
   },
   "outputs": [
    {
     "data": {
      "text/plain": [
       "277.3510771128774"
      ]
     },
     "execution_count": 206,
     "metadata": {},
     "output_type": "execute_result"
    }
   ],
   "source": [
    "add_sea_Quad = smf.ols('Sales~t+t_squared+Q1+Q2+Q3',data=Train).fit()\n",
    "pred_add_sea_quad = pd.Series(add_sea_Quad.predict(Test[['Q1','Q2','Q3','t','t_squared']]))\n",
    "rmse_add_sea_quad = RMSE(Test['Sales'], pred_add_sea_quad)\n",
    "rmse_add_sea_quad      "
   ]
  },
  {
   "cell_type": "markdown",
   "id": "1a328e67",
   "metadata": {},
   "source": [
    "## Multiplicative Seasonality model"
   ]
  },
  {
   "cell_type": "code",
   "execution_count": 207,
   "id": "83db6496",
   "metadata": {
    "ExecuteTime": {
     "end_time": "2022-01-12T11:26:33.965222Z",
     "start_time": "2022-01-12T11:26:33.933043Z"
    }
   },
   "outputs": [
    {
     "data": {
      "text/plain": [
       "1908.250394836116"
      ]
     },
     "execution_count": 207,
     "metadata": {},
     "output_type": "execute_result"
    }
   ],
   "source": [
    "Mul_sea = smf.ols('log_sales~Q1+Q2+Q3',data=Train).fit()\n",
    "pred_Mult_sea = pd.Series(Mul_sea.predict(Test))\n",
    "rmse_Mul_sea = RMSE(Test['Sales'], np.exp(pred_Mult_sea))\n",
    "rmse_Mul_sea"
   ]
  },
  {
   "cell_type": "markdown",
   "id": "2922b4bd",
   "metadata": {
    "ExecuteTime": {
     "end_time": "2022-01-10T16:55:49.172434Z",
     "start_time": "2022-01-10T16:55:49.167184Z"
    }
   },
   "source": [
    "## Multiplicative Addictive Seasonality Model "
   ]
  },
  {
   "cell_type": "code",
   "execution_count": 208,
   "id": "0d125384",
   "metadata": {
    "ExecuteTime": {
     "end_time": "2022-01-12T11:26:35.409778Z",
     "start_time": "2022-01-12T11:26:35.360632Z"
    }
   },
   "outputs": [
    {
     "data": {
      "text/plain": [
       "448.867818269187"
      ]
     },
     "execution_count": 208,
     "metadata": {},
     "output_type": "execute_result"
    }
   ],
   "source": [
    "Mul_Add_sea = smf.ols('log_sales~t+Q1+Q2+Q3',data = Train).fit()\n",
    "pred_Mul_add_sea = pd.Series(Mul_Add_sea.predict(Test))\n",
    "rmse_Mul_add_sea = RMSE(Test['Sales'], np.exp(pred_Mul_add_sea))\n",
    "rmse_Mul_add_sea"
   ]
  },
  {
   "cell_type": "code",
   "execution_count": 213,
   "id": "284c8b69",
   "metadata": {
    "ExecuteTime": {
     "end_time": "2022-01-12T11:28:08.593497Z",
     "start_time": "2022-01-12T11:28:08.578322Z"
    }
   },
   "outputs": [],
   "source": [
    "list = [['Simple Exponential Method',rmse_ses], ['Holt method',rmse_hw],\n",
    "          ['HW exp smoothing add',rmse_hwe_add_add],['HW exp smoothing mult',rmse_hwe_mul_add],\n",
    "          ['Linear Mode',rmse_linear],['Exp model',rmse_Exp],['Quad model',rmse_quad],\n",
    "          ['add seasonality',rmse_add_sea],['Quad add seasonality',rmse_add_sea_quad],\n",
    "          ['Mult Seasonality',rmse_Mul_sea],['Mult add seasonality',rmse_Mul_add_sea]]"
   ]
  },
  {
   "cell_type": "code",
   "execution_count": 214,
   "id": "5dfb8569",
   "metadata": {
    "ExecuteTime": {
     "end_time": "2022-01-12T11:28:11.559652Z",
     "start_time": "2022-01-12T11:28:11.543755Z"
    }
   },
   "outputs": [
    {
     "data": {
      "text/html": [
       "<div>\n",
       "<style scoped>\n",
       "    .dataframe tbody tr th:only-of-type {\n",
       "        vertical-align: middle;\n",
       "    }\n",
       "\n",
       "    .dataframe tbody tr th {\n",
       "        vertical-align: top;\n",
       "    }\n",
       "\n",
       "    .dataframe thead th {\n",
       "        text-align: right;\n",
       "    }\n",
       "</style>\n",
       "<table border=\"1\" class=\"dataframe\">\n",
       "  <thead>\n",
       "    <tr style=\"text-align: right;\">\n",
       "      <th></th>\n",
       "      <th>Model</th>\n",
       "      <th>RMSE_Value</th>\n",
       "    </tr>\n",
       "  </thead>\n",
       "  <tbody>\n",
       "    <tr>\n",
       "      <th>0</th>\n",
       "      <td>Simple Exponential Method</td>\n",
       "      <td>1034.935927</td>\n",
       "    </tr>\n",
       "    <tr>\n",
       "      <th>1</th>\n",
       "      <td>Holt method</td>\n",
       "      <td>786.766483</td>\n",
       "    </tr>\n",
       "    <tr>\n",
       "      <th>2</th>\n",
       "      <td>HW exp smoothing add</td>\n",
       "      <td>478.115404</td>\n",
       "    </tr>\n",
       "    <tr>\n",
       "      <th>3</th>\n",
       "      <td>HW exp smoothing mult</td>\n",
       "      <td>630.534307</td>\n",
       "    </tr>\n",
       "    <tr>\n",
       "      <th>4</th>\n",
       "      <td>Linear Mode</td>\n",
       "      <td>752.923393</td>\n",
       "    </tr>\n",
       "    <tr>\n",
       "      <th>5</th>\n",
       "      <td>Exp model</td>\n",
       "      <td>590.331643</td>\n",
       "    </tr>\n",
       "    <tr>\n",
       "      <th>6</th>\n",
       "      <td>Quad model</td>\n",
       "      <td>457.735736</td>\n",
       "    </tr>\n",
       "    <tr>\n",
       "      <th>7</th>\n",
       "      <td>add seasonality</td>\n",
       "      <td>1850.466546</td>\n",
       "    </tr>\n",
       "    <tr>\n",
       "      <th>8</th>\n",
       "      <td>Quad add seasonality</td>\n",
       "      <td>277.351077</td>\n",
       "    </tr>\n",
       "    <tr>\n",
       "      <th>9</th>\n",
       "      <td>Mult Seasonality</td>\n",
       "      <td>1908.250395</td>\n",
       "    </tr>\n",
       "    <tr>\n",
       "      <th>10</th>\n",
       "      <td>Mult add seasonality</td>\n",
       "      <td>448.867818</td>\n",
       "    </tr>\n",
       "  </tbody>\n",
       "</table>\n",
       "</div>"
      ],
      "text/plain": [
       "                        Model   RMSE_Value\n",
       "0   Simple Exponential Method  1034.935927\n",
       "1                 Holt method   786.766483\n",
       "2        HW exp smoothing add   478.115404\n",
       "3       HW exp smoothing mult   630.534307\n",
       "4                 Linear Mode   752.923393\n",
       "5                   Exp model   590.331643\n",
       "6                  Quad model   457.735736\n",
       "7             add seasonality  1850.466546\n",
       "8        Quad add seasonality   277.351077\n",
       "9            Mult Seasonality  1908.250395\n",
       "10       Mult add seasonality   448.867818"
      ]
     },
     "execution_count": 214,
     "metadata": {},
     "output_type": "execute_result"
    }
   ],
   "source": [
    "df = pd.DataFrame(list, columns =['Model', 'RMSE_Value']) \n",
    "df"
   ]
  },
  {
   "cell_type": "markdown",
   "id": "66848cb6",
   "metadata": {},
   "source": [
    "## Building final model with least RMSE value"
   ]
  },
  {
   "cell_type": "code",
   "execution_count": 224,
   "id": "09ccc36b",
   "metadata": {
    "ExecuteTime": {
     "end_time": "2022-01-12T11:30:33.051622Z",
     "start_time": "2022-01-12T11:30:33.023116Z"
    }
   },
   "outputs": [
    {
     "data": {
      "text/html": [
       "<div>\n",
       "<style scoped>\n",
       "    .dataframe tbody tr th:only-of-type {\n",
       "        vertical-align: middle;\n",
       "    }\n",
       "\n",
       "    .dataframe tbody tr th {\n",
       "        vertical-align: top;\n",
       "    }\n",
       "\n",
       "    .dataframe thead th {\n",
       "        text-align: right;\n",
       "    }\n",
       "</style>\n",
       "<table border=\"1\" class=\"dataframe\">\n",
       "  <thead>\n",
       "    <tr style=\"text-align: right;\">\n",
       "      <th></th>\n",
       "      <th>Quarter</th>\n",
       "      <th>Sales</th>\n",
       "      <th>Quarters</th>\n",
       "      <th>Year</th>\n",
       "      <th>Q1</th>\n",
       "      <th>Q2</th>\n",
       "      <th>Q3</th>\n",
       "      <th>Q4</th>\n",
       "      <th>t</th>\n",
       "      <th>t_squared</th>\n",
       "      <th>log_sales</th>\n",
       "    </tr>\n",
       "  </thead>\n",
       "  <tbody>\n",
       "    <tr>\n",
       "      <th>0</th>\n",
       "      <td>Q1_86</td>\n",
       "      <td>1734.827000</td>\n",
       "      <td>Q1</td>\n",
       "      <td>86</td>\n",
       "      <td>1</td>\n",
       "      <td>0</td>\n",
       "      <td>0</td>\n",
       "      <td>0</td>\n",
       "      <td>1</td>\n",
       "      <td>1</td>\n",
       "      <td>7.458663</td>\n",
       "    </tr>\n",
       "    <tr>\n",
       "      <th>1</th>\n",
       "      <td>Q2_86</td>\n",
       "      <td>2244.960999</td>\n",
       "      <td>Q2</td>\n",
       "      <td>86</td>\n",
       "      <td>0</td>\n",
       "      <td>1</td>\n",
       "      <td>0</td>\n",
       "      <td>0</td>\n",
       "      <td>2</td>\n",
       "      <td>4</td>\n",
       "      <td>7.716443</td>\n",
       "    </tr>\n",
       "    <tr>\n",
       "      <th>2</th>\n",
       "      <td>Q3_86</td>\n",
       "      <td>2533.804993</td>\n",
       "      <td>Q3</td>\n",
       "      <td>86</td>\n",
       "      <td>0</td>\n",
       "      <td>0</td>\n",
       "      <td>1</td>\n",
       "      <td>0</td>\n",
       "      <td>3</td>\n",
       "      <td>9</td>\n",
       "      <td>7.837477</td>\n",
       "    </tr>\n",
       "    <tr>\n",
       "      <th>3</th>\n",
       "      <td>Q4_86</td>\n",
       "      <td>2154.962997</td>\n",
       "      <td>Q4</td>\n",
       "      <td>86</td>\n",
       "      <td>0</td>\n",
       "      <td>0</td>\n",
       "      <td>0</td>\n",
       "      <td>1</td>\n",
       "      <td>4</td>\n",
       "      <td>16</td>\n",
       "      <td>7.675529</td>\n",
       "    </tr>\n",
       "    <tr>\n",
       "      <th>4</th>\n",
       "      <td>Q1_87</td>\n",
       "      <td>1547.818996</td>\n",
       "      <td>Q1</td>\n",
       "      <td>87</td>\n",
       "      <td>1</td>\n",
       "      <td>0</td>\n",
       "      <td>0</td>\n",
       "      <td>0</td>\n",
       "      <td>5</td>\n",
       "      <td>25</td>\n",
       "      <td>7.344602</td>\n",
       "    </tr>\n",
       "  </tbody>\n",
       "</table>\n",
       "</div>"
      ],
      "text/plain": [
       "  Quarter        Sales Quarters  Year  Q1  Q2  Q3  Q4  t  t_squared  log_sales\n",
       "0   Q1_86  1734.827000       Q1    86   1   0   0   0  1          1   7.458663\n",
       "1   Q2_86  2244.960999       Q2    86   0   1   0   0  2          4   7.716443\n",
       "2   Q3_86  2533.804993       Q3    86   0   0   1   0  3          9   7.837477\n",
       "3   Q4_86  2154.962997       Q4    86   0   0   0   1  4         16   7.675529\n",
       "4   Q1_87  1547.818996       Q1    87   1   0   0   0  5         25   7.344602"
      ]
     },
     "execution_count": 224,
     "metadata": {},
     "output_type": "execute_result"
    }
   ],
   "source": [
    "data.head()"
   ]
  },
  {
   "cell_type": "code",
   "execution_count": 225,
   "id": "78ac4bd2",
   "metadata": {
    "ExecuteTime": {
     "end_time": "2022-01-12T11:30:33.491177Z",
     "start_time": "2022-01-12T11:30:33.429643Z"
    }
   },
   "outputs": [
    {
     "data": {
      "text/plain": [
       "159.0552257652247"
      ]
     },
     "execution_count": 225,
     "metadata": {},
     "output_type": "execute_result"
    }
   ],
   "source": [
    "final_model = smf.ols('Sales~t+t_squared+Q1+Q2+Q3',data=data).fit()\n",
    "pred_final = pd.Series(final_model.predict(data[['Q1','Q2','Q3','t','t_squared']]))\n",
    "rmse_final_model = RMSE(data['Sales'], pred_final)\n",
    "rmse_final_model"
   ]
  },
  {
   "cell_type": "code",
   "execution_count": 226,
   "id": "5ab7a41f",
   "metadata": {
    "ExecuteTime": {
     "end_time": "2022-01-12T11:30:34.110877Z",
     "start_time": "2022-01-12T11:30:34.088205Z"
    }
   },
   "outputs": [
    {
     "data": {
      "text/html": [
       "<div>\n",
       "<style scoped>\n",
       "    .dataframe tbody tr th:only-of-type {\n",
       "        vertical-align: middle;\n",
       "    }\n",
       "\n",
       "    .dataframe tbody tr th {\n",
       "        vertical-align: top;\n",
       "    }\n",
       "\n",
       "    .dataframe thead th {\n",
       "        text-align: right;\n",
       "    }\n",
       "</style>\n",
       "<table border=\"1\" class=\"dataframe\">\n",
       "  <thead>\n",
       "    <tr style=\"text-align: right;\">\n",
       "      <th></th>\n",
       "      <th>Actual</th>\n",
       "      <th>Predicted</th>\n",
       "    </tr>\n",
       "  </thead>\n",
       "  <tbody>\n",
       "    <tr>\n",
       "      <th>0</th>\n",
       "      <td>1734.827000</td>\n",
       "      <td>1626.592727</td>\n",
       "    </tr>\n",
       "    <tr>\n",
       "      <th>1</th>\n",
       "      <td>2244.960999</td>\n",
       "      <td>2268.402339</td>\n",
       "    </tr>\n",
       "    <tr>\n",
       "      <th>2</th>\n",
       "      <td>2533.804993</td>\n",
       "      <td>2189.685821</td>\n",
       "    </tr>\n",
       "    <tr>\n",
       "      <th>3</th>\n",
       "      <td>2154.962997</td>\n",
       "      <td>1867.242917</td>\n",
       "    </tr>\n",
       "    <tr>\n",
       "      <th>4</th>\n",
       "      <td>1547.818996</td>\n",
       "      <td>1658.311143</td>\n",
       "    </tr>\n",
       "    <tr>\n",
       "      <th>5</th>\n",
       "      <td>2104.411995</td>\n",
       "      <td>2314.185178</td>\n",
       "    </tr>\n",
       "    <tr>\n",
       "      <th>6</th>\n",
       "      <td>2014.362999</td>\n",
       "      <td>2249.533083</td>\n",
       "    </tr>\n",
       "    <tr>\n",
       "      <th>7</th>\n",
       "      <td>1991.746998</td>\n",
       "      <td>1941.154603</td>\n",
       "    </tr>\n",
       "    <tr>\n",
       "      <th>8</th>\n",
       "      <td>1869.049999</td>\n",
       "      <td>1746.287252</td>\n",
       "    </tr>\n",
       "    <tr>\n",
       "      <th>9</th>\n",
       "      <td>2313.631996</td>\n",
       "      <td>2416.225709</td>\n",
       "    </tr>\n",
       "    <tr>\n",
       "      <th>10</th>\n",
       "      <td>2128.320000</td>\n",
       "      <td>2365.638037</td>\n",
       "    </tr>\n",
       "    <tr>\n",
       "      <th>11</th>\n",
       "      <td>2026.828999</td>\n",
       "      <td>2071.323979</td>\n",
       "    </tr>\n",
       "    <tr>\n",
       "      <th>12</th>\n",
       "      <td>1910.603996</td>\n",
       "      <td>1890.521051</td>\n",
       "    </tr>\n",
       "    <tr>\n",
       "      <th>13</th>\n",
       "      <td>2331.164993</td>\n",
       "      <td>2574.523931</td>\n",
       "    </tr>\n",
       "    <tr>\n",
       "      <th>14</th>\n",
       "      <td>2206.549995</td>\n",
       "      <td>2538.000682</td>\n",
       "    </tr>\n",
       "    <tr>\n",
       "      <th>15</th>\n",
       "      <td>2173.967995</td>\n",
       "      <td>2257.751047</td>\n",
       "    </tr>\n",
       "    <tr>\n",
       "      <th>16</th>\n",
       "      <td>2148.278000</td>\n",
       "      <td>2091.012542</td>\n",
       "    </tr>\n",
       "    <tr>\n",
       "      <th>17</th>\n",
       "      <td>2739.307999</td>\n",
       "      <td>2789.079845</td>\n",
       "    </tr>\n",
       "    <tr>\n",
       "      <th>18</th>\n",
       "      <td>2792.753998</td>\n",
       "      <td>2766.621019</td>\n",
       "    </tr>\n",
       "    <tr>\n",
       "      <th>19</th>\n",
       "      <td>2556.009995</td>\n",
       "      <td>2500.435807</td>\n",
       "    </tr>\n",
       "    <tr>\n",
       "      <th>20</th>\n",
       "      <td>2480.973999</td>\n",
       "      <td>2347.761724</td>\n",
       "    </tr>\n",
       "    <tr>\n",
       "      <th>21</th>\n",
       "      <td>3039.522995</td>\n",
       "      <td>3059.893450</td>\n",
       "    </tr>\n",
       "    <tr>\n",
       "      <th>22</th>\n",
       "      <td>3172.115997</td>\n",
       "      <td>3051.499047</td>\n",
       "    </tr>\n",
       "    <tr>\n",
       "      <th>23</th>\n",
       "      <td>2879.000999</td>\n",
       "      <td>2799.378257</td>\n",
       "    </tr>\n",
       "    <tr>\n",
       "      <th>24</th>\n",
       "      <td>2772.000000</td>\n",
       "      <td>2660.768598</td>\n",
       "    </tr>\n",
       "    <tr>\n",
       "      <th>25</th>\n",
       "      <td>3550.000000</td>\n",
       "      <td>3386.964746</td>\n",
       "    </tr>\n",
       "    <tr>\n",
       "      <th>26</th>\n",
       "      <td>3508.000000</td>\n",
       "      <td>3392.634766</td>\n",
       "    </tr>\n",
       "    <tr>\n",
       "      <th>27</th>\n",
       "      <td>3243.859993</td>\n",
       "      <td>3154.578400</td>\n",
       "    </tr>\n",
       "    <tr>\n",
       "      <th>28</th>\n",
       "      <td>3056.000000</td>\n",
       "      <td>3030.033163</td>\n",
       "    </tr>\n",
       "    <tr>\n",
       "      <th>29</th>\n",
       "      <td>3899.000000</td>\n",
       "      <td>3770.293734</td>\n",
       "    </tr>\n",
       "    <tr>\n",
       "      <th>30</th>\n",
       "      <td>3629.000000</td>\n",
       "      <td>3790.028177</td>\n",
       "    </tr>\n",
       "    <tr>\n",
       "      <th>31</th>\n",
       "      <td>3373.000000</td>\n",
       "      <td>3566.036233</td>\n",
       "    </tr>\n",
       "    <tr>\n",
       "      <th>32</th>\n",
       "      <td>3352.000000</td>\n",
       "      <td>3455.555419</td>\n",
       "    </tr>\n",
       "    <tr>\n",
       "      <th>33</th>\n",
       "      <td>4342.000000</td>\n",
       "      <td>4209.880414</td>\n",
       "    </tr>\n",
       "    <tr>\n",
       "      <th>34</th>\n",
       "      <td>4461.000000</td>\n",
       "      <td>4243.679279</td>\n",
       "    </tr>\n",
       "    <tr>\n",
       "      <th>35</th>\n",
       "      <td>4017.000000</td>\n",
       "      <td>4033.751758</td>\n",
       "    </tr>\n",
       "    <tr>\n",
       "      <th>36</th>\n",
       "      <td>3854.000000</td>\n",
       "      <td>3937.335367</td>\n",
       "    </tr>\n",
       "    <tr>\n",
       "      <th>37</th>\n",
       "      <td>4936.000000</td>\n",
       "      <td>4705.724784</td>\n",
       "    </tr>\n",
       "    <tr>\n",
       "      <th>38</th>\n",
       "      <td>4895.000000</td>\n",
       "      <td>4753.588072</td>\n",
       "    </tr>\n",
       "    <tr>\n",
       "      <th>39</th>\n",
       "      <td>4333.000000</td>\n",
       "      <td>4557.724974</td>\n",
       "    </tr>\n",
       "    <tr>\n",
       "      <th>40</th>\n",
       "      <td>4194.000000</td>\n",
       "      <td>4475.373006</td>\n",
       "    </tr>\n",
       "    <tr>\n",
       "      <th>41</th>\n",
       "      <td>5253.000000</td>\n",
       "      <td>5257.826846</td>\n",
       "    </tr>\n",
       "  </tbody>\n",
       "</table>\n",
       "</div>"
      ],
      "text/plain": [
       "         Actual    Predicted\n",
       "0   1734.827000  1626.592727\n",
       "1   2244.960999  2268.402339\n",
       "2   2533.804993  2189.685821\n",
       "3   2154.962997  1867.242917\n",
       "4   1547.818996  1658.311143\n",
       "5   2104.411995  2314.185178\n",
       "6   2014.362999  2249.533083\n",
       "7   1991.746998  1941.154603\n",
       "8   1869.049999  1746.287252\n",
       "9   2313.631996  2416.225709\n",
       "10  2128.320000  2365.638037\n",
       "11  2026.828999  2071.323979\n",
       "12  1910.603996  1890.521051\n",
       "13  2331.164993  2574.523931\n",
       "14  2206.549995  2538.000682\n",
       "15  2173.967995  2257.751047\n",
       "16  2148.278000  2091.012542\n",
       "17  2739.307999  2789.079845\n",
       "18  2792.753998  2766.621019\n",
       "19  2556.009995  2500.435807\n",
       "20  2480.973999  2347.761724\n",
       "21  3039.522995  3059.893450\n",
       "22  3172.115997  3051.499047\n",
       "23  2879.000999  2799.378257\n",
       "24  2772.000000  2660.768598\n",
       "25  3550.000000  3386.964746\n",
       "26  3508.000000  3392.634766\n",
       "27  3243.859993  3154.578400\n",
       "28  3056.000000  3030.033163\n",
       "29  3899.000000  3770.293734\n",
       "30  3629.000000  3790.028177\n",
       "31  3373.000000  3566.036233\n",
       "32  3352.000000  3455.555419\n",
       "33  4342.000000  4209.880414\n",
       "34  4461.000000  4243.679279\n",
       "35  4017.000000  4033.751758\n",
       "36  3854.000000  3937.335367\n",
       "37  4936.000000  4705.724784\n",
       "38  4895.000000  4753.588072\n",
       "39  4333.000000  4557.724974\n",
       "40  4194.000000  4475.373006\n",
       "41  5253.000000  5257.826846"
      ]
     },
     "execution_count": 226,
     "metadata": {},
     "output_type": "execute_result"
    }
   ],
   "source": [
    "pred_df = pd.DataFrame({'Actual' : data.Sales, 'Predicted' : pred_final})\n",
    "pred_df"
   ]
  },
  {
   "cell_type": "code",
   "execution_count": null,
   "id": "1edae19a",
   "metadata": {},
   "outputs": [],
   "source": []
  },
  {
   "cell_type": "code",
   "execution_count": null,
   "id": "42bf21f1",
   "metadata": {},
   "outputs": [],
   "source": []
  },
  {
   "cell_type": "code",
   "execution_count": null,
   "id": "cc69574d",
   "metadata": {},
   "outputs": [],
   "source": []
  }
 ],
 "metadata": {
  "kernelspec": {
   "display_name": "Python 3",
   "language": "python",
   "name": "python3"
  },
  "language_info": {
   "codemirror_mode": {
    "name": "ipython",
    "version": 3
   },
   "file_extension": ".py",
   "mimetype": "text/x-python",
   "name": "python",
   "nbconvert_exporter": "python",
   "pygments_lexer": "ipython3",
   "version": "3.8.8"
  },
  "varInspector": {
   "cols": {
    "lenName": 16,
    "lenType": 16,
    "lenVar": 40
   },
   "kernels_config": {
    "python": {
     "delete_cmd_postfix": "",
     "delete_cmd_prefix": "del ",
     "library": "var_list.py",
     "varRefreshCmd": "print(var_dic_list())"
    },
    "r": {
     "delete_cmd_postfix": ") ",
     "delete_cmd_prefix": "rm(",
     "library": "var_list.r",
     "varRefreshCmd": "cat(var_dic_list()) "
    }
   },
   "types_to_exclude": [
    "module",
    "function",
    "builtin_function_or_method",
    "instance",
    "_Feature"
   ],
   "window_display": false
  }
 },
 "nbformat": 4,
 "nbformat_minor": 5
}
